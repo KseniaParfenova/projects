{
 "cells": [
  {
   "cell_type": "code",
   "execution_count": 1,
   "metadata": {},
   "outputs": [],
   "source": [
    "import pandas as pd\n",
    "import numpy as np\n",
    "import seaborn as sns\n",
    "import matplotlib.pyplot as plt\n",
    "import matplotlib.pyplot as plt\n",
    "\n",
    "%matplotlib inline"
   ]
  },
  {
   "cell_type": "code",
   "execution_count": 2,
   "metadata": {},
   "outputs": [],
   "source": [
    "student_registr = pd.read_csv('/mnt/HC_Volume_18315164/home-jupyter/jupyter-k-parfenova-21/Dop/studentRegistration.csv', sep = ',')\n",
    "student_assessment = pd.read_csv('/mnt/HC_Volume_18315164/home-jupyter/jupyter-k-parfenova-21/Dop/studentAssessment.csv', sep = ',')\n",
    "assessments = pd.read_csv('/mnt/HC_Volume_18315164/home-jupyter/jupyter-k-parfenova-21/Dop/assessments.csv', sep = ',')\n",
    "courses = pd.read_csv('/mnt/HC_Volume_18315164/home-jupyter/jupyter-k-parfenova-21/Dop/courses.csv', sep = ',')"
   ]
  },
  {
   "cell_type": "markdown",
   "metadata": {},
   "source": [
    "**Файлы:**\n",
    "\n",
    "**assessments.csv** — этот файл содержит информацию об оценках в тесте. Обычно каждый предмет в семестре включает ряд тестов с оценками, за которыми следует заключительный экзаменационный тест (экзамен).\n",
    "\n",
    "code_module — идентификационный код предмета.\n",
    "\n",
    "code_presentation — семестр (Идентификационный код).\n",
    "\n",
    "id_assessment — тест (Идентификационный номер ассессмента).\n",
    "\n",
    "assessment_type — тип теста. Существуют три типа оценивания: оценка преподавателя (TMA), компьютерная оценка (СМА), экзамен по курсу (Exam).\n",
    "\n",
    "date — информация об окончательной дате сдачи теста. Рассчитывается как количество дней с момента начала семестра. Дата начала семестра имеет номер 0 (ноль).\n",
    "\n",
    "weight — вес теста в % в оценке за курс. Обычно экзамены рассматриваются отдельно и имеют вес 100%; сумма всех остальных оценок составляет 100%.\n",
    "\n",
    "**courses.csv** — файл содержит список предметов по семестрам.\n",
    "\n",
    "code_module — предмет (идентификационный код).\n",
    "\n",
    "code_presentation — семестр (идентификационный код).\n",
    "\n",
    "module_presentation_length — продолжительность семестра в днях.\n",
    "\n",
    "**studentAssessment.csv** — этот файл содержит результаты тестов студентов. Если учащийся не отправляет работу на оценку, результат не записывается в таблицу.\n",
    "\n",
    "id_assessment — тест (идентификационный номер).\n",
    "\n",
    "id_student — идентификационный номер студента.\n",
    "\n",
    "date_submitted — дата сдачи теста студентом, измеряемая как количество дней с начала семестра.\n",
    "\n",
    "is_banked — факт перезачета теста с прошлого семестра (иногда курсы перезачитывают студентам, вернувшимся из академического отпуска).\n",
    "\n",
    "score — оценка учащегося в этом тесте. Диапазон составляет от 0 до 100. Оценка ниже 40 неудачная/неуспешная сдача теста.\n",
    "\n",
    "**studentRegistration.csv** — этот файл содержит информацию о времени, когда студент зарегистрировался для прохождения курса в семестре.\n",
    "\n",
    "code_module — предмет (идентификационный код).\n",
    "\n",
    "code_presentation — семестр (идентификационный код)\n",
    "\n",
    "id_student — идентификационный номер студента.\n",
    "\n",
    "date_registration — дата регистрации студента. Это количество дней, измеренное от начала семестра (например, отрицательное значение -30 означает, что студент зарегистрировался на прохождение курса за 30 дней до его начала).\n",
    "\n",
    "date_unregistration — дата отмены регистрации студента с предмета. У студентов, окончивших курс, это поле остается пустым."
   ]
  },
  {
   "cell_type": "code",
   "execution_count": 3,
   "metadata": {},
   "outputs": [
    {
     "data": {
      "text/plain": [
       "id_assessment       0\n",
       "id_student          0\n",
       "date_submitted      0\n",
       "is_banked           0\n",
       "score             173\n",
       "dtype: int64"
      ]
     },
     "execution_count": 3,
     "metadata": {},
     "output_type": "execute_result"
    }
   ],
   "source": [
    "student_assessment.isna().sum()"
   ]
  },
  {
   "cell_type": "markdown",
   "metadata": {},
   "source": [
    "У некоторых студентов не стоит оценка, поэтому вместо пропуска - ставим 0, для дальнейших расчетов"
   ]
  },
  {
   "cell_type": "code",
   "execution_count": 4,
   "metadata": {},
   "outputs": [],
   "source": [
    "student_assessment = student_assessment.fillna(0)"
   ]
  },
  {
   "cell_type": "markdown",
   "metadata": {},
   "source": [
    "**1. Сколько студентов успешно сдали только один курс? (Успешная сдача — это зачёт по курсу на экзамене)**"
   ]
  },
  {
   "cell_type": "code",
   "execution_count": 6,
   "metadata": {},
   "outputs": [],
   "source": [
    "x = assessments.query('assessment_type == \"Exam\"') \n",
    "y = student_assessment.query('score >= 40') \n",
    "\n",
    "all_exam = x.merge(student_assessment, on = 'id_assessment', how = 'inner') # DF со всеми экзаменами\n",
    "\n",
    "passed_exam = x.merge(y, on = 'id_assessment', how = 'inner')  # DF со сданными экзаменами"
   ]
  },
  {
   "cell_type": "code",
   "execution_count": 7,
   "metadata": {},
   "outputs": [
    {
     "data": {
      "text/plain": [
       "0"
      ]
     },
     "execution_count": 7,
     "metadata": {},
     "output_type": "execute_result"
    }
   ],
   "source": [
    "passed_exam.query('is_banked < 0').is_banked.count()"
   ]
  },
  {
   "cell_type": "markdown",
   "metadata": {},
   "source": [
    "Значит пересдач по экзаменам не было"
   ]
  },
  {
   "cell_type": "code",
   "execution_count": 9,
   "metadata": {},
   "outputs": [
    {
     "data": {
      "text/html": [
       "<div>\n",
       "<style scoped>\n",
       "    .dataframe tbody tr th:only-of-type {\n",
       "        vertical-align: middle;\n",
       "    }\n",
       "\n",
       "    .dataframe tbody tr th {\n",
       "        vertical-align: top;\n",
       "    }\n",
       "\n",
       "    .dataframe thead th {\n",
       "        text-align: right;\n",
       "    }\n",
       "</style>\n",
       "<table border=\"1\" class=\"dataframe\">\n",
       "  <thead>\n",
       "    <tr style=\"text-align: right;\">\n",
       "      <th></th>\n",
       "      <th>code_module</th>\n",
       "      <th>code_presentation</th>\n",
       "      <th>id_student</th>\n",
       "      <th>score</th>\n",
       "      <th>is_banked</th>\n",
       "    </tr>\n",
       "  </thead>\n",
       "  <tbody>\n",
       "    <tr>\n",
       "      <th>0</th>\n",
       "      <td>CCC</td>\n",
       "      <td>2014B</td>\n",
       "      <td>29764</td>\n",
       "      <td>1</td>\n",
       "      <td>0</td>\n",
       "    </tr>\n",
       "    <tr>\n",
       "      <th>1</th>\n",
       "      <td>CCC</td>\n",
       "      <td>2014B</td>\n",
       "      <td>29820</td>\n",
       "      <td>1</td>\n",
       "      <td>0</td>\n",
       "    </tr>\n",
       "    <tr>\n",
       "      <th>2</th>\n",
       "      <td>CCC</td>\n",
       "      <td>2014B</td>\n",
       "      <td>40604</td>\n",
       "      <td>1</td>\n",
       "      <td>0</td>\n",
       "    </tr>\n",
       "    <tr>\n",
       "      <th>3</th>\n",
       "      <td>CCC</td>\n",
       "      <td>2014B</td>\n",
       "      <td>42638</td>\n",
       "      <td>1</td>\n",
       "      <td>0</td>\n",
       "    </tr>\n",
       "    <tr>\n",
       "      <th>4</th>\n",
       "      <td>CCC</td>\n",
       "      <td>2014B</td>\n",
       "      <td>46605</td>\n",
       "      <td>1</td>\n",
       "      <td>0</td>\n",
       "    </tr>\n",
       "  </tbody>\n",
       "</table>\n",
       "</div>"
      ],
      "text/plain": [
       "  code_module code_presentation  id_student  score  is_banked\n",
       "0         CCC             2014B       29764      1          0\n",
       "1         CCC             2014B       29820      1          0\n",
       "2         CCC             2014B       40604      1          0\n",
       "3         CCC             2014B       42638      1          0\n",
       "4         CCC             2014B       46605      1          0"
      ]
     },
     "execution_count": 9,
     "metadata": {},
     "output_type": "execute_result"
    }
   ],
   "source": [
    "number_of_courses = passed_exam.groupby(['code_module', 'code_presentation', 'id_student'], as_index = False) \\\n",
    ".agg({'score': 'count', 'is_banked': 'sum'})\n",
    "\n",
    "number_of_courses.head()"
   ]
  },
  {
   "cell_type": "code",
   "execution_count": 10,
   "metadata": {},
   "outputs": [
    {
     "data": {
      "text/plain": [
       "4097"
      ]
     },
     "execution_count": 10,
     "metadata": {},
     "output_type": "execute_result"
    }
   ],
   "source": [
    "number_of_courses = number_of_courses.groupby('id_student', as_index = False).agg({'code_module':'count'})\n",
    "number_of_courses.id_student.count()"
   ]
  },
  {
   "cell_type": "code",
   "execution_count": 11,
   "metadata": {},
   "outputs": [
    {
     "data": {
      "text/plain": [
       "3802"
      ]
     },
     "execution_count": 11,
     "metadata": {},
     "output_type": "execute_result"
    }
   ],
   "source": [
    "number_of_courses.query('code_module == 1').id_student.count()"
   ]
  },
  {
   "cell_type": "markdown",
   "metadata": {},
   "source": [
    "Ответ: \n",
    "\n",
    "   Студентов, сдавших только один курс, *3802*"
   ]
  },
  {
   "cell_type": "markdown",
   "metadata": {},
   "source": [
    "**2. Выяви самый сложный и самый простой экзамен: найди курсы и экзамены в рамках курса, которые обладают самой низкой\n",
    "и самой высокой завершаемостью**\n",
    "\n",
    "завершаемость = кол-во успешных экзаменов / кол-во всех попыток сдать экзамен"
   ]
  },
  {
   "cell_type": "code",
   "execution_count": 12,
   "metadata": {},
   "outputs": [],
   "source": [
    "exam_complex_1 = passed_exam.groupby(['code_module', 'id_assessment'], as_index = False) \\\n",
    ".agg({'is_banked': 'count'})\n",
    "\n",
    "exam_complex_2 = all_exam.groupby(['code_module', 'id_assessment'], as_index = False) \\\n",
    ".agg({'is_banked': 'count'})"
   ]
  },
  {
   "cell_type": "code",
   "execution_count": 13,
   "metadata": {},
   "outputs": [
    {
     "data": {
      "text/html": [
       "<div>\n",
       "<style scoped>\n",
       "    .dataframe tbody tr th:only-of-type {\n",
       "        vertical-align: middle;\n",
       "    }\n",
       "\n",
       "    .dataframe tbody tr th {\n",
       "        vertical-align: top;\n",
       "    }\n",
       "\n",
       "    .dataframe thead th {\n",
       "        text-align: right;\n",
       "    }\n",
       "</style>\n",
       "<table border=\"1\" class=\"dataframe\">\n",
       "  <thead>\n",
       "    <tr style=\"text-align: right;\">\n",
       "      <th></th>\n",
       "      <th>code_module</th>\n",
       "      <th>id_assessment</th>\n",
       "      <th>is_banked</th>\n",
       "      <th>completeness</th>\n",
       "    </tr>\n",
       "  </thead>\n",
       "  <tbody>\n",
       "    <tr>\n",
       "      <th>0</th>\n",
       "      <td>CCC</td>\n",
       "      <td>24290</td>\n",
       "      <td>664</td>\n",
       "      <td>0.89</td>\n",
       "    </tr>\n",
       "    <tr>\n",
       "      <th>1</th>\n",
       "      <td>CCC</td>\n",
       "      <td>24299</td>\n",
       "      <td>1019</td>\n",
       "      <td>0.87</td>\n",
       "    </tr>\n",
       "    <tr>\n",
       "      <th>2</th>\n",
       "      <td>DDD</td>\n",
       "      <td>25340</td>\n",
       "      <td>504</td>\n",
       "      <td>0.84</td>\n",
       "    </tr>\n",
       "    <tr>\n",
       "      <th>3</th>\n",
       "      <td>DDD</td>\n",
       "      <td>25354</td>\n",
       "      <td>878</td>\n",
       "      <td>0.91</td>\n",
       "    </tr>\n",
       "    <tr>\n",
       "      <th>4</th>\n",
       "      <td>DDD</td>\n",
       "      <td>25361</td>\n",
       "      <td>485</td>\n",
       "      <td>0.93</td>\n",
       "    </tr>\n",
       "    <tr>\n",
       "      <th>5</th>\n",
       "      <td>DDD</td>\n",
       "      <td>25368</td>\n",
       "      <td>842</td>\n",
       "      <td>0.89</td>\n",
       "    </tr>\n",
       "  </tbody>\n",
       "</table>\n",
       "</div>"
      ],
      "text/plain": [
       "  code_module  id_assessment  is_banked  completeness\n",
       "0         CCC          24290        664          0.89\n",
       "1         CCC          24299       1019          0.87\n",
       "2         DDD          25340        504          0.84\n",
       "3         DDD          25354        878          0.91\n",
       "4         DDD          25361        485          0.93\n",
       "5         DDD          25368        842          0.89"
      ]
     },
     "execution_count": 13,
     "metadata": {},
     "output_type": "execute_result"
    }
   ],
   "source": [
    "exam_complex_1['completeness'] = exam_complex_1.is_banked / exam_complex_2.is_banked\n",
    "exam_complex_1.rename(columns = {'is_banked': 'number_exams_passed'})\n",
    "completeness = exam_complex_1.round(2)\n",
    "completeness"
   ]
  },
  {
   "cell_type": "code",
   "execution_count": 14,
   "metadata": {},
   "outputs": [
    {
     "data": {
      "text/html": [
       "<div>\n",
       "<style scoped>\n",
       "    .dataframe tbody tr th:only-of-type {\n",
       "        vertical-align: middle;\n",
       "    }\n",
       "\n",
       "    .dataframe tbody tr th {\n",
       "        vertical-align: top;\n",
       "    }\n",
       "\n",
       "    .dataframe thead th {\n",
       "        text-align: right;\n",
       "    }\n",
       "</style>\n",
       "<table border=\"1\" class=\"dataframe\">\n",
       "  <thead>\n",
       "    <tr style=\"text-align: right;\">\n",
       "      <th></th>\n",
       "      <th>code_module</th>\n",
       "      <th>id_assessment</th>\n",
       "      <th>is_banked</th>\n",
       "      <th>completeness</th>\n",
       "    </tr>\n",
       "  </thead>\n",
       "  <tbody>\n",
       "    <tr>\n",
       "      <th>4</th>\n",
       "      <td>DDD</td>\n",
       "      <td>25361</td>\n",
       "      <td>485</td>\n",
       "      <td>0.93</td>\n",
       "    </tr>\n",
       "  </tbody>\n",
       "</table>\n",
       "</div>"
      ],
      "text/plain": [
       "  code_module  id_assessment  is_banked  completeness\n",
       "4         DDD          25361        485          0.93"
      ]
     },
     "execution_count": 14,
     "metadata": {},
     "output_type": "execute_result"
    }
   ],
   "source": [
    "max_completeness = completeness.sort_values('completeness', ascending = False).head(1)\n",
    "max_completeness"
   ]
  },
  {
   "cell_type": "code",
   "execution_count": 15,
   "metadata": {},
   "outputs": [
    {
     "data": {
      "text/html": [
       "<div>\n",
       "<style scoped>\n",
       "    .dataframe tbody tr th:only-of-type {\n",
       "        vertical-align: middle;\n",
       "    }\n",
       "\n",
       "    .dataframe tbody tr th {\n",
       "        vertical-align: top;\n",
       "    }\n",
       "\n",
       "    .dataframe thead th {\n",
       "        text-align: right;\n",
       "    }\n",
       "</style>\n",
       "<table border=\"1\" class=\"dataframe\">\n",
       "  <thead>\n",
       "    <tr style=\"text-align: right;\">\n",
       "      <th></th>\n",
       "      <th>code_module</th>\n",
       "      <th>id_assessment</th>\n",
       "      <th>is_banked</th>\n",
       "      <th>completeness</th>\n",
       "    </tr>\n",
       "  </thead>\n",
       "  <tbody>\n",
       "    <tr>\n",
       "      <th>2</th>\n",
       "      <td>DDD</td>\n",
       "      <td>25340</td>\n",
       "      <td>504</td>\n",
       "      <td>0.84</td>\n",
       "    </tr>\n",
       "  </tbody>\n",
       "</table>\n",
       "</div>"
      ],
      "text/plain": [
       "  code_module  id_assessment  is_banked  completeness\n",
       "2         DDD          25340        504          0.84"
      ]
     },
     "execution_count": 15,
     "metadata": {},
     "output_type": "execute_result"
    }
   ],
   "source": [
    "min_completeness = completeness.sort_values('completeness', ascending = True).head(1)\n",
    "min_completeness"
   ]
  },
  {
   "cell_type": "markdown",
   "metadata": {},
   "source": [
    "Ответ:\n",
    "\n",
    "   самый *сложный* экзамен: по курсу \"DDD\", тест №: 25340\n",
    "\n",
    "   самый *простой* экзамен: по курсу \"DDD\", тест №: 25361"
   ]
  },
  {
   "cell_type": "markdown",
   "metadata": {},
   "source": [
    "**3. По каждому предмету определи средний срок сдачи экзаменов \n",
    "(под сдачей понимаем последнее успешное прохождение экзамена студентом)**"
   ]
  },
  {
   "cell_type": "code",
   "execution_count": 16,
   "metadata": {},
   "outputs": [
    {
     "data": {
      "text/html": [
       "<div>\n",
       "<style scoped>\n",
       "    .dataframe tbody tr th:only-of-type {\n",
       "        vertical-align: middle;\n",
       "    }\n",
       "\n",
       "    .dataframe tbody tr th {\n",
       "        vertical-align: top;\n",
       "    }\n",
       "\n",
       "    .dataframe thead th {\n",
       "        text-align: right;\n",
       "    }\n",
       "</style>\n",
       "<table border=\"1\" class=\"dataframe\">\n",
       "  <thead>\n",
       "    <tr style=\"text-align: right;\">\n",
       "      <th></th>\n",
       "      <th>code_module</th>\n",
       "      <th>date_submitted</th>\n",
       "    </tr>\n",
       "  </thead>\n",
       "  <tbody>\n",
       "    <tr>\n",
       "      <th>0</th>\n",
       "      <td>CCC</td>\n",
       "      <td>239.35</td>\n",
       "    </tr>\n",
       "    <tr>\n",
       "      <th>1</th>\n",
       "      <td>DDD</td>\n",
       "      <td>237.98</td>\n",
       "    </tr>\n",
       "  </tbody>\n",
       "</table>\n",
       "</div>"
      ],
      "text/plain": [
       "  code_module  date_submitted\n",
       "0         CCC          239.35\n",
       "1         DDD          237.98"
      ]
     },
     "execution_count": 16,
     "metadata": {},
     "output_type": "execute_result"
    }
   ],
   "source": [
    "date_mean_1 = passed_exam.groupby('code_module', as_index = False) \\\n",
    ".agg({'date_submitted': 'mean'}).round(2)\n",
    "\n",
    "date_mean_1"
   ]
  },
  {
   "cell_type": "markdown",
   "metadata": {},
   "source": [
    "Ответ:\n",
    "\n",
    "   по курсу \"CCC\", средний срок сдачи: ~ 240 дней\n",
    "\n",
    "   по курсу \"DDD\", средний срок сдачи: ~ 238 дней"
   ]
  },
  {
   "cell_type": "code",
   "execution_count": 17,
   "metadata": {},
   "outputs": [
    {
     "data": {
      "text/html": [
       "<div>\n",
       "<style scoped>\n",
       "    .dataframe tbody tr th:only-of-type {\n",
       "        vertical-align: middle;\n",
       "    }\n",
       "\n",
       "    .dataframe tbody tr th {\n",
       "        vertical-align: top;\n",
       "    }\n",
       "\n",
       "    .dataframe thead th {\n",
       "        text-align: right;\n",
       "    }\n",
       "</style>\n",
       "<table border=\"1\" class=\"dataframe\">\n",
       "  <thead>\n",
       "    <tr style=\"text-align: right;\">\n",
       "      <th></th>\n",
       "      <th>id_assessment</th>\n",
       "      <th>code_module</th>\n",
       "      <th>date_submitted</th>\n",
       "    </tr>\n",
       "  </thead>\n",
       "  <tbody>\n",
       "    <tr>\n",
       "      <th>0</th>\n",
       "      <td>24290</td>\n",
       "      <td>CCC</td>\n",
       "      <td>231.58</td>\n",
       "    </tr>\n",
       "    <tr>\n",
       "      <th>1</th>\n",
       "      <td>24299</td>\n",
       "      <td>CCC</td>\n",
       "      <td>244.40</td>\n",
       "    </tr>\n",
       "    <tr>\n",
       "      <th>2</th>\n",
       "      <td>25340</td>\n",
       "      <td>DDD</td>\n",
       "      <td>230.16</td>\n",
       "    </tr>\n",
       "    <tr>\n",
       "      <th>3</th>\n",
       "      <td>25354</td>\n",
       "      <td>DDD</td>\n",
       "      <td>239.51</td>\n",
       "    </tr>\n",
       "    <tr>\n",
       "      <th>4</th>\n",
       "      <td>25361</td>\n",
       "      <td>DDD</td>\n",
       "      <td>234.94</td>\n",
       "    </tr>\n",
       "    <tr>\n",
       "      <th>5</th>\n",
       "      <td>25368</td>\n",
       "      <td>DDD</td>\n",
       "      <td>242.80</td>\n",
       "    </tr>\n",
       "  </tbody>\n",
       "</table>\n",
       "</div>"
      ],
      "text/plain": [
       "   id_assessment code_module  date_submitted\n",
       "0          24290         CCC          231.58\n",
       "1          24299         CCC          244.40\n",
       "2          25340         DDD          230.16\n",
       "3          25354         DDD          239.51\n",
       "4          25361         DDD          234.94\n",
       "5          25368         DDD          242.80"
      ]
     },
     "execution_count": 17,
     "metadata": {},
     "output_type": "execute_result"
    }
   ],
   "source": [
    "date_mean_2 = passed_exam.groupby(['id_assessment', 'code_module'], as_index = False) \\\n",
    ".agg({'date_submitted': 'mean'}).round(2)\n",
    "\n",
    "date_mean_2"
   ]
  },
  {
   "cell_type": "markdown",
   "metadata": {},
   "source": [
    "Второй вариант. Если считать средний срок сдачи экзаменов(по id), а не курса."
   ]
  },
  {
   "cell_type": "markdown",
   "metadata": {},
   "source": [
    "**4. Выяви самые популярные курсы (ТОП-3) по количеству регистраций на них**"
   ]
  },
  {
   "cell_type": "code",
   "execution_count": 18,
   "metadata": {},
   "outputs": [],
   "source": [
    "top_course = assessments.merge(student_registr, on = ['code_module', 'code_presentation'], how = 'inner') \\\n",
    ".merge(student_assessment, on = ['id_assessment', 'id_student'], how = 'inner') "
   ]
  },
  {
   "cell_type": "code",
   "execution_count": 19,
   "metadata": {},
   "outputs": [
    {
     "data": {
      "text/html": [
       "<div>\n",
       "<style scoped>\n",
       "    .dataframe tbody tr th:only-of-type {\n",
       "        vertical-align: middle;\n",
       "    }\n",
       "\n",
       "    .dataframe tbody tr th {\n",
       "        vertical-align: top;\n",
       "    }\n",
       "\n",
       "    .dataframe thead th {\n",
       "        text-align: right;\n",
       "    }\n",
       "</style>\n",
       "<table border=\"1\" class=\"dataframe\">\n",
       "  <thead>\n",
       "    <tr style=\"text-align: right;\">\n",
       "      <th></th>\n",
       "      <th>code_module</th>\n",
       "      <th>date_registration</th>\n",
       "    </tr>\n",
       "  </thead>\n",
       "  <tbody>\n",
       "    <tr>\n",
       "      <th>5</th>\n",
       "      <td>FFF</td>\n",
       "      <td>54815</td>\n",
       "    </tr>\n",
       "    <tr>\n",
       "      <th>1</th>\n",
       "      <td>BBB</td>\n",
       "      <td>43032</td>\n",
       "    </tr>\n",
       "    <tr>\n",
       "      <th>3</th>\n",
       "      <td>DDD</td>\n",
       "      <td>30859</td>\n",
       "    </tr>\n",
       "  </tbody>\n",
       "</table>\n",
       "</div>"
      ],
      "text/plain": [
       "  code_module  date_registration\n",
       "5         FFF              54815\n",
       "1         BBB              43032\n",
       "3         DDD              30859"
      ]
     },
     "execution_count": 19,
     "metadata": {},
     "output_type": "execute_result"
    }
   ],
   "source": [
    "top_registration = top_course.query('date_registration != \"NaN\"') \\\n",
    ".groupby('code_module', as_index = False) \\\n",
    ".agg({'date_registration': 'count'}) \\\n",
    ".sort_values('date_registration', ascending = False).head(3)\n",
    "\n",
    "top_registration"
   ]
  },
  {
   "cell_type": "markdown",
   "metadata": {},
   "source": [
    "**А также курсы с самым большим оттоком (ТОП-3)**"
   ]
  },
  {
   "cell_type": "code",
   "execution_count": 20,
   "metadata": {},
   "outputs": [
    {
     "data": {
      "text/html": [
       "<div>\n",
       "<style scoped>\n",
       "    .dataframe tbody tr th:only-of-type {\n",
       "        vertical-align: middle;\n",
       "    }\n",
       "\n",
       "    .dataframe tbody tr th {\n",
       "        vertical-align: top;\n",
       "    }\n",
       "\n",
       "    .dataframe thead th {\n",
       "        text-align: right;\n",
       "    }\n",
       "</style>\n",
       "<table border=\"1\" class=\"dataframe\">\n",
       "  <thead>\n",
       "    <tr style=\"text-align: right;\">\n",
       "      <th></th>\n",
       "      <th>code_module</th>\n",
       "      <th>date_unregistration</th>\n",
       "    </tr>\n",
       "  </thead>\n",
       "  <tbody>\n",
       "    <tr>\n",
       "      <th>3</th>\n",
       "      <td>DDD</td>\n",
       "      <td>3523</td>\n",
       "    </tr>\n",
       "    <tr>\n",
       "      <th>5</th>\n",
       "      <td>FFF</td>\n",
       "      <td>3397</td>\n",
       "    </tr>\n",
       "    <tr>\n",
       "      <th>1</th>\n",
       "      <td>BBB</td>\n",
       "      <td>2693</td>\n",
       "    </tr>\n",
       "  </tbody>\n",
       "</table>\n",
       "</div>"
      ],
      "text/plain": [
       "  code_module  date_unregistration\n",
       "3         DDD                 3523\n",
       "5         FFF                 3397\n",
       "1         BBB                 2693"
      ]
     },
     "execution_count": 20,
     "metadata": {},
     "output_type": "execute_result"
    }
   ],
   "source": [
    "top_unregistration = top_course.query('date_unregistration != \"NaN\"') \\\n",
    ".groupby('code_module', as_index = False) \\\n",
    ".agg({'date_unregistration': 'count'}) \\\n",
    ".sort_values('date_unregistration', ascending = False).head(3)\n",
    "\n",
    "top_unregistration"
   ]
  },
  {
   "cell_type": "markdown",
   "metadata": {},
   "source": [
    "Ответ:\n",
    "\n",
    "    В топ популярных курсов попали: \n",
    "    FFF = 54815 \n",
    "    BBB = 43032 \n",
    "    DDD = 30859 \n",
    "    \n",
    "    Следовательно, и отток по этим курсам с большей вероятностью будет в топе. Как в итоге и вышло:\n",
    "    DDD = 3523 \n",
    "    FFF = 3397 \n",
    "    BBB = 2693 "
   ]
  },
  {
   "cell_type": "markdown",
   "metadata": {},
   "source": [
    "Значимость оттока:\n",
    "    \n",
    "   отток курса / приток курса"
   ]
  },
  {
   "cell_type": "code",
   "execution_count": 21,
   "metadata": {},
   "outputs": [
    {
     "data": {
      "text/html": [
       "<div>\n",
       "<style scoped>\n",
       "    .dataframe tbody tr th:only-of-type {\n",
       "        vertical-align: middle;\n",
       "    }\n",
       "\n",
       "    .dataframe tbody tr th {\n",
       "        vertical-align: top;\n",
       "    }\n",
       "\n",
       "    .dataframe thead th {\n",
       "        text-align: right;\n",
       "    }\n",
       "</style>\n",
       "<table border=\"1\" class=\"dataframe\">\n",
       "  <thead>\n",
       "    <tr style=\"text-align: right;\">\n",
       "      <th></th>\n",
       "      <th>code_module</th>\n",
       "      <th>date_registration</th>\n",
       "      <th>date_unregistration</th>\n",
       "      <th>relevance</th>\n",
       "    </tr>\n",
       "  </thead>\n",
       "  <tbody>\n",
       "    <tr>\n",
       "      <th>2</th>\n",
       "      <td>DDD</td>\n",
       "      <td>30859</td>\n",
       "      <td>3523</td>\n",
       "      <td>0.114164</td>\n",
       "    </tr>\n",
       "    <tr>\n",
       "      <th>1</th>\n",
       "      <td>BBB</td>\n",
       "      <td>43032</td>\n",
       "      <td>2693</td>\n",
       "      <td>0.062581</td>\n",
       "    </tr>\n",
       "    <tr>\n",
       "      <th>0</th>\n",
       "      <td>FFF</td>\n",
       "      <td>54815</td>\n",
       "      <td>3397</td>\n",
       "      <td>0.061972</td>\n",
       "    </tr>\n",
       "  </tbody>\n",
       "</table>\n",
       "</div>"
      ],
      "text/plain": [
       "  code_module  date_registration  date_unregistration  relevance\n",
       "2         DDD              30859                 3523   0.114164\n",
       "1         BBB              43032                 2693   0.062581\n",
       "0         FFF              54815                 3397   0.061972"
      ]
     },
     "execution_count": 21,
     "metadata": {},
     "output_type": "execute_result"
    }
   ],
   "source": [
    "top_relevance = top_registration.merge(top_unregistration, on = 'code_module')\n",
    "top_relevance['relevance'] = top_relevance.date_unregistration / top_relevance.date_registration\n",
    "top_relevance.sort_values('relevance', ascending = False)"
   ]
  },
  {
   "cell_type": "markdown",
   "metadata": {},
   "source": [
    "**5. Напиши функцию на python, позволяющую строить когортный (семестровый) анализ. \n",
    "В период с начала 2013 по конец 2014 выяви семестр с самой низкой завершаемостью курсов и самыми долгими средними сроками сдачи курсов**"
   ]
  },
  {
   "cell_type": "code",
   "execution_count": 22,
   "metadata": {},
   "outputs": [],
   "source": [
    "def cohort_analysis(x):\n",
    "    \n",
    "    exam_finality_1 = passed_exam.groupby(['code_presentation', 'code_module', 'id_assessment'], as_index = False) \\\n",
    "    .agg({'is_banked': 'count', 'date_submitted': 'mean'})\n",
    "    \n",
    "    exam_finality_2 = all_exam.groupby(['code_presentation', 'code_module', 'id_assessment'], as_index = False) \\\n",
    "    .agg({'is_banked': 'count'})\n",
    "    \n",
    "    exam_final = exam_finality_1.rename(columns = {'is_banked': 'number_exams_passed'})\n",
    "    \n",
    "    exam_final['completeness'] = exam_final.number_exams_passed / exam_finality_2.is_banked\n",
    "    \n",
    "    exam_final = exam_final.round(2)\n",
    "    \n",
    "    n = exam_final.completeness.min()\n",
    "    nl = exam_final.query('completeness == @n')\n",
    "    nl = nl.code_presentation.min()\n",
    "    k = exam_final.date_submitted.max()\n",
    "    kl = exam_final.query('date_submitted == @k')\n",
    "    kl = kl.code_presentation.min()\n",
    "            \n",
    "    print('Семестр с самой низкой завершаемостью курсов:', nl,'=', n)\n",
    "    print('Семестр с самыми долгими средними сроками сдачи курсов:', kl,'=', k)\n",
    "    \n",
    "    print('Информация по семестру', x)\n",
    "    \n",
    "    info = exam_final[['code_presentation', 'code_module', 'id_assessment', 'date_submitted', 'completeness']].query('code_presentation == @x')\n",
    "    print(info)"
   ]
  },
  {
   "cell_type": "code",
   "execution_count": 23,
   "metadata": {},
   "outputs": [
    {
     "name": "stdout",
     "output_type": "stream",
     "text": [
      "Семестр с самой низкой завершаемостью курсов: 2013B = 0.84\n",
      "Семестр с самыми долгими средними сроками сдачи курсов: 2014J = 244.4\n",
      "Информация по семестру 2013B\n",
      "  code_presentation code_module  id_assessment  date_submitted  completeness\n",
      "0             2013B         DDD          25340          230.16          0.84\n"
     ]
    }
   ],
   "source": [
    "cohort_analysis('2013B') # 2013B - взят как пример. Чтобы показать, какие данные выводятся"
   ]
  },
  {
   "cell_type": "markdown",
   "metadata": {},
   "source": [
    "Ответ:\n",
    "\n",
    "  Семестр с самой низкой завершаемостью курсов: 2013B = 0.84\n",
    "  \n",
    "  \n",
    "  Семестр с самыми долгими средними сроками сдачи курсов: 2014J = 244.4  \n",
    "    "
   ]
  },
  {
   "cell_type": "markdown",
   "metadata": {},
   "source": [
    "**6. Часто для качественного анализа аудитории использую подходы, основанные на сегментации. Используя python, построй адаптированные RFM-кластеры студентов, чтобы качественно оценить свою аудиторию. В адаптированной кластеризации можешь выбрать следующие метрики: R - среднее время сдачи одного экзамена, F - завершаемость курсов, M - среднее количество баллов, получаемое за экзамен. Подробно опиши, как ты создавал кластеры. Для каждого RFM-сегмента построй границы метрик recency, frequency и monetary для интерпретации этих кластеров.**"
   ]
  },
  {
   "cell_type": "code",
   "execution_count": 28,
   "metadata": {},
   "outputs": [
    {
     "data": {
      "text/html": [
       "<div>\n",
       "<style scoped>\n",
       "    .dataframe tbody tr th:only-of-type {\n",
       "        vertical-align: middle;\n",
       "    }\n",
       "\n",
       "    .dataframe tbody tr th {\n",
       "        vertical-align: top;\n",
       "    }\n",
       "\n",
       "    .dataframe thead th {\n",
       "        text-align: right;\n",
       "    }\n",
       "</style>\n",
       "<table border=\"1\" class=\"dataframe\">\n",
       "  <thead>\n",
       "    <tr style=\"text-align: right;\">\n",
       "      <th></th>\n",
       "      <th>code_module</th>\n",
       "      <th>id_student</th>\n",
       "      <th>R</th>\n",
       "      <th>F</th>\n",
       "      <th>M</th>\n",
       "    </tr>\n",
       "  </thead>\n",
       "  <tbody>\n",
       "    <tr>\n",
       "      <th>0</th>\n",
       "      <td>CCC</td>\n",
       "      <td>23698</td>\n",
       "      <td>243.0</td>\n",
       "      <td>0.80</td>\n",
       "      <td>80.0</td>\n",
       "    </tr>\n",
       "    <tr>\n",
       "      <th>1</th>\n",
       "      <td>CCC</td>\n",
       "      <td>27116</td>\n",
       "      <td>243.0</td>\n",
       "      <td>0.96</td>\n",
       "      <td>96.0</td>\n",
       "    </tr>\n",
       "    <tr>\n",
       "      <th>2</th>\n",
       "      <td>CCC</td>\n",
       "      <td>28787</td>\n",
       "      <td>243.0</td>\n",
       "      <td>0.44</td>\n",
       "      <td>44.0</td>\n",
       "    </tr>\n",
       "    <tr>\n",
       "      <th>3</th>\n",
       "      <td>CCC</td>\n",
       "      <td>29420</td>\n",
       "      <td>244.0</td>\n",
       "      <td>0.62</td>\n",
       "      <td>62.0</td>\n",
       "    </tr>\n",
       "    <tr>\n",
       "      <th>4</th>\n",
       "      <td>CCC</td>\n",
       "      <td>29639</td>\n",
       "      <td>248.0</td>\n",
       "      <td>0.74</td>\n",
       "      <td>74.0</td>\n",
       "    </tr>\n",
       "    <tr>\n",
       "      <th>...</th>\n",
       "      <td>...</td>\n",
       "      <td>...</td>\n",
       "      <td>...</td>\n",
       "      <td>...</td>\n",
       "      <td>...</td>\n",
       "    </tr>\n",
       "    <tr>\n",
       "      <th>4384</th>\n",
       "      <td>DDD</td>\n",
       "      <td>2693243</td>\n",
       "      <td>230.0</td>\n",
       "      <td>0.82</td>\n",
       "      <td>82.0</td>\n",
       "    </tr>\n",
       "    <tr>\n",
       "      <th>4385</th>\n",
       "      <td>DDD</td>\n",
       "      <td>2694886</td>\n",
       "      <td>236.0</td>\n",
       "      <td>0.69</td>\n",
       "      <td>69.0</td>\n",
       "    </tr>\n",
       "    <tr>\n",
       "      <th>4386</th>\n",
       "      <td>DDD</td>\n",
       "      <td>2694933</td>\n",
       "      <td>230.0</td>\n",
       "      <td>0.73</td>\n",
       "      <td>73.0</td>\n",
       "    </tr>\n",
       "    <tr>\n",
       "      <th>4387</th>\n",
       "      <td>DDD</td>\n",
       "      <td>2695608</td>\n",
       "      <td>237.0</td>\n",
       "      <td>0.73</td>\n",
       "      <td>73.0</td>\n",
       "    </tr>\n",
       "    <tr>\n",
       "      <th>4388</th>\n",
       "      <td>DDD</td>\n",
       "      <td>2698251</td>\n",
       "      <td>234.0</td>\n",
       "      <td>0.44</td>\n",
       "      <td>44.0</td>\n",
       "    </tr>\n",
       "  </tbody>\n",
       "</table>\n",
       "<p>4389 rows × 5 columns</p>\n",
       "</div>"
      ],
      "text/plain": [
       "     code_module  id_student      R     F     M\n",
       "0            CCC       23698  243.0  0.80  80.0\n",
       "1            CCC       27116  243.0  0.96  96.0\n",
       "2            CCC       28787  243.0  0.44  44.0\n",
       "3            CCC       29420  244.0  0.62  62.0\n",
       "4            CCC       29639  248.0  0.74  74.0\n",
       "...          ...         ...    ...   ...   ...\n",
       "4384         DDD     2693243  230.0  0.82  82.0\n",
       "4385         DDD     2694886  236.0  0.69  69.0\n",
       "4386         DDD     2694933  230.0  0.73  73.0\n",
       "4387         DDD     2695608  237.0  0.73  73.0\n",
       "4388         DDD     2698251  234.0  0.44  44.0\n",
       "\n",
       "[4389 rows x 5 columns]"
      ]
     },
     "execution_count": 28,
     "metadata": {},
     "output_type": "execute_result"
    }
   ],
   "source": [
    "exam_1 = passed_exam.groupby(['code_module', 'id_student'], as_index = False) \\\n",
    ".agg({'score': 'max', 'date_submitted': 'mean'})\n",
    "\n",
    "exam_1['completeness'] = exam_1.score / 100\n",
    "\n",
    "rfm_analysis = exam_1.rename(columns = {'date_submitted': 'R',\n",
    "                    'score': 'M', \n",
    "                    'completeness': 'F'}) \n",
    "\n",
    "rfm_analysis = rfm_analysis[['code_module', 'id_student', 'R', 'F', 'M']]\n",
    "\n",
    "rfm_analysis = rfm_analysis.round(2)\n",
    "rfm_analysis"
   ]
  },
  {
   "cell_type": "code",
   "execution_count": 29,
   "metadata": {},
   "outputs": [],
   "source": [
    "def finish(x):\n",
    "    if x > 0.9 and x <= 1:\n",
    "         return '5.0'\n",
    "    elif x > 0.8 and x <= 0.9:\n",
    "        return '4.5'\n",
    "    elif x > 0.7 and x <= 0.8:\n",
    "        return '4.0'\n",
    "    elif x > 0.6 and x <= 0.7:\n",
    "        return '3.5'\n",
    "    elif x > 0.5 and x <= 0.6:\n",
    "        return '3.0'\n",
    "    else:\n",
    "        return '2.0'  "
   ]
  },
  {
   "cell_type": "code",
   "execution_count": 30,
   "metadata": {},
   "outputs": [
    {
     "data": {
      "text/html": [
       "<div>\n",
       "<style scoped>\n",
       "    .dataframe tbody tr th:only-of-type {\n",
       "        vertical-align: middle;\n",
       "    }\n",
       "\n",
       "    .dataframe tbody tr th {\n",
       "        vertical-align: top;\n",
       "    }\n",
       "\n",
       "    .dataframe thead th {\n",
       "        text-align: right;\n",
       "    }\n",
       "</style>\n",
       "<table border=\"1\" class=\"dataframe\">\n",
       "  <thead>\n",
       "    <tr style=\"text-align: right;\">\n",
       "      <th></th>\n",
       "      <th>code_module</th>\n",
       "      <th>id_student</th>\n",
       "      <th>R</th>\n",
       "      <th>F</th>\n",
       "      <th>M</th>\n",
       "    </tr>\n",
       "  </thead>\n",
       "  <tbody>\n",
       "    <tr>\n",
       "      <th>0</th>\n",
       "      <td>CCC</td>\n",
       "      <td>23698</td>\n",
       "      <td>243.0</td>\n",
       "      <td>4.0</td>\n",
       "      <td>80.0</td>\n",
       "    </tr>\n",
       "    <tr>\n",
       "      <th>1</th>\n",
       "      <td>CCC</td>\n",
       "      <td>27116</td>\n",
       "      <td>243.0</td>\n",
       "      <td>5.0</td>\n",
       "      <td>96.0</td>\n",
       "    </tr>\n",
       "    <tr>\n",
       "      <th>2</th>\n",
       "      <td>CCC</td>\n",
       "      <td>28787</td>\n",
       "      <td>243.0</td>\n",
       "      <td>2.0</td>\n",
       "      <td>44.0</td>\n",
       "    </tr>\n",
       "    <tr>\n",
       "      <th>3</th>\n",
       "      <td>CCC</td>\n",
       "      <td>29420</td>\n",
       "      <td>244.0</td>\n",
       "      <td>3.5</td>\n",
       "      <td>62.0</td>\n",
       "    </tr>\n",
       "    <tr>\n",
       "      <th>4</th>\n",
       "      <td>CCC</td>\n",
       "      <td>29639</td>\n",
       "      <td>248.0</td>\n",
       "      <td>4.0</td>\n",
       "      <td>74.0</td>\n",
       "    </tr>\n",
       "    <tr>\n",
       "      <th>...</th>\n",
       "      <td>...</td>\n",
       "      <td>...</td>\n",
       "      <td>...</td>\n",
       "      <td>...</td>\n",
       "      <td>...</td>\n",
       "    </tr>\n",
       "    <tr>\n",
       "      <th>4384</th>\n",
       "      <td>DDD</td>\n",
       "      <td>2693243</td>\n",
       "      <td>230.0</td>\n",
       "      <td>4.5</td>\n",
       "      <td>82.0</td>\n",
       "    </tr>\n",
       "    <tr>\n",
       "      <th>4385</th>\n",
       "      <td>DDD</td>\n",
       "      <td>2694886</td>\n",
       "      <td>236.0</td>\n",
       "      <td>3.5</td>\n",
       "      <td>69.0</td>\n",
       "    </tr>\n",
       "    <tr>\n",
       "      <th>4386</th>\n",
       "      <td>DDD</td>\n",
       "      <td>2694933</td>\n",
       "      <td>230.0</td>\n",
       "      <td>4.0</td>\n",
       "      <td>73.0</td>\n",
       "    </tr>\n",
       "    <tr>\n",
       "      <th>4387</th>\n",
       "      <td>DDD</td>\n",
       "      <td>2695608</td>\n",
       "      <td>237.0</td>\n",
       "      <td>4.0</td>\n",
       "      <td>73.0</td>\n",
       "    </tr>\n",
       "    <tr>\n",
       "      <th>4388</th>\n",
       "      <td>DDD</td>\n",
       "      <td>2698251</td>\n",
       "      <td>234.0</td>\n",
       "      <td>2.0</td>\n",
       "      <td>44.0</td>\n",
       "    </tr>\n",
       "  </tbody>\n",
       "</table>\n",
       "<p>4389 rows × 5 columns</p>\n",
       "</div>"
      ],
      "text/plain": [
       "     code_module  id_student      R    F     M\n",
       "0            CCC       23698  243.0  4.0  80.0\n",
       "1            CCC       27116  243.0  5.0  96.0\n",
       "2            CCC       28787  243.0  2.0  44.0\n",
       "3            CCC       29420  244.0  3.5  62.0\n",
       "4            CCC       29639  248.0  4.0  74.0\n",
       "...          ...         ...    ...  ...   ...\n",
       "4384         DDD     2693243  230.0  4.5  82.0\n",
       "4385         DDD     2694886  236.0  3.5  69.0\n",
       "4386         DDD     2694933  230.0  4.0  73.0\n",
       "4387         DDD     2695608  237.0  4.0  73.0\n",
       "4388         DDD     2698251  234.0  2.0  44.0\n",
       "\n",
       "[4389 rows x 5 columns]"
      ]
     },
     "execution_count": 30,
     "metadata": {},
     "output_type": "execute_result"
    }
   ],
   "source": [
    "rfm_analysis['F'] = rfm_analysis['F'].apply(lambda x: finish(x))\n",
    "rfm_analysis = rfm_analysis.astype({'F': 'float'})\n",
    "rfm_analysis"
   ]
  },
  {
   "cell_type": "code",
   "execution_count": 31,
   "metadata": {},
   "outputs": [],
   "source": [
    "quantiles = rfm_analysis.quantile(q=[0.25, 0.5, 0.75]) # 1\n",
    "quantiles = quantiles.to_dict()\n",
    "\n",
    "def RFM(x,p,d):  # 2\n",
    "    if x >= d[p][0.75]:\n",
    "        return 1\n",
    "    elif x >= d[p][0.5]:\n",
    "         return 2\n",
    "    elif x >= d[p][0.25]:\n",
    "         return 3\n",
    "    else:\n",
    "         return 4\n",
    "\n",
    "rfm_analysis['r_quartile'] = rfm_analysis['R'].apply(RFM, args=('R', quantiles))  # 3\n",
    "rfm_analysis['f_quartile'] = rfm_analysis['F'].apply(RFM, args=('F', quantiles))\n",
    "rfm_analysis['m_quartile'] = rfm_analysis['M'].apply(RFM, args=('M', quantiles))\n",
    "\n",
    "rfm_analysis['RFM'] = rfm_analysis.r_quartile.map(str) + rfm_analysis.f_quartile.map(str) + rfm_analysis.m_quartile.map(str) #4"
   ]
  },
  {
   "cell_type": "markdown",
   "metadata": {},
   "source": [
    "1. Данные были разделение на 4 сегмента. По квантилям на равные части.\n",
    "2. Функция, считывает данные по столбцам и индексам и распределяет по сегментам.\n",
    "3. Создание нового столбца с занесением туда номера сегмента\n",
    "4. Сложение всех групп в RFM данные"
   ]
  },
  {
   "cell_type": "code",
   "execution_count": 32,
   "metadata": {},
   "outputs": [
    {
     "data": {
      "text/html": [
       "<div>\n",
       "<style scoped>\n",
       "    .dataframe tbody tr th:only-of-type {\n",
       "        vertical-align: middle;\n",
       "    }\n",
       "\n",
       "    .dataframe tbody tr th {\n",
       "        vertical-align: top;\n",
       "    }\n",
       "\n",
       "    .dataframe thead th {\n",
       "        text-align: right;\n",
       "    }\n",
       "</style>\n",
       "<table border=\"1\" class=\"dataframe\">\n",
       "  <thead>\n",
       "    <tr style=\"text-align: right;\">\n",
       "      <th></th>\n",
       "      <th>code_module</th>\n",
       "      <th>id_student</th>\n",
       "      <th>R</th>\n",
       "      <th>F</th>\n",
       "      <th>M</th>\n",
       "      <th>r_quartile</th>\n",
       "      <th>f_quartile</th>\n",
       "      <th>m_quartile</th>\n",
       "      <th>RFM</th>\n",
       "    </tr>\n",
       "  </thead>\n",
       "  <tbody>\n",
       "    <tr>\n",
       "      <th>0</th>\n",
       "      <td>CCC</td>\n",
       "      <td>23698</td>\n",
       "      <td>243.0</td>\n",
       "      <td>4.0</td>\n",
       "      <td>80.0</td>\n",
       "      <td>1</td>\n",
       "      <td>2</td>\n",
       "      <td>2</td>\n",
       "      <td>122</td>\n",
       "    </tr>\n",
       "    <tr>\n",
       "      <th>1</th>\n",
       "      <td>CCC</td>\n",
       "      <td>27116</td>\n",
       "      <td>243.0</td>\n",
       "      <td>5.0</td>\n",
       "      <td>96.0</td>\n",
       "      <td>1</td>\n",
       "      <td>1</td>\n",
       "      <td>1</td>\n",
       "      <td>111</td>\n",
       "    </tr>\n",
       "    <tr>\n",
       "      <th>2</th>\n",
       "      <td>CCC</td>\n",
       "      <td>28787</td>\n",
       "      <td>243.0</td>\n",
       "      <td>2.0</td>\n",
       "      <td>44.0</td>\n",
       "      <td>1</td>\n",
       "      <td>4</td>\n",
       "      <td>4</td>\n",
       "      <td>144</td>\n",
       "    </tr>\n",
       "    <tr>\n",
       "      <th>3</th>\n",
       "      <td>CCC</td>\n",
       "      <td>29420</td>\n",
       "      <td>244.0</td>\n",
       "      <td>3.5</td>\n",
       "      <td>62.0</td>\n",
       "      <td>1</td>\n",
       "      <td>2</td>\n",
       "      <td>3</td>\n",
       "      <td>123</td>\n",
       "    </tr>\n",
       "    <tr>\n",
       "      <th>4</th>\n",
       "      <td>CCC</td>\n",
       "      <td>29639</td>\n",
       "      <td>248.0</td>\n",
       "      <td>4.0</td>\n",
       "      <td>74.0</td>\n",
       "      <td>1</td>\n",
       "      <td>2</td>\n",
       "      <td>2</td>\n",
       "      <td>122</td>\n",
       "    </tr>\n",
       "    <tr>\n",
       "      <th>...</th>\n",
       "      <td>...</td>\n",
       "      <td>...</td>\n",
       "      <td>...</td>\n",
       "      <td>...</td>\n",
       "      <td>...</td>\n",
       "      <td>...</td>\n",
       "      <td>...</td>\n",
       "      <td>...</td>\n",
       "      <td>...</td>\n",
       "    </tr>\n",
       "    <tr>\n",
       "      <th>4384</th>\n",
       "      <td>DDD</td>\n",
       "      <td>2693243</td>\n",
       "      <td>230.0</td>\n",
       "      <td>4.5</td>\n",
       "      <td>82.0</td>\n",
       "      <td>4</td>\n",
       "      <td>1</td>\n",
       "      <td>2</td>\n",
       "      <td>412</td>\n",
       "    </tr>\n",
       "    <tr>\n",
       "      <th>4385</th>\n",
       "      <td>DDD</td>\n",
       "      <td>2694886</td>\n",
       "      <td>236.0</td>\n",
       "      <td>3.5</td>\n",
       "      <td>69.0</td>\n",
       "      <td>3</td>\n",
       "      <td>2</td>\n",
       "      <td>3</td>\n",
       "      <td>323</td>\n",
       "    </tr>\n",
       "    <tr>\n",
       "      <th>4386</th>\n",
       "      <td>DDD</td>\n",
       "      <td>2694933</td>\n",
       "      <td>230.0</td>\n",
       "      <td>4.0</td>\n",
       "      <td>73.0</td>\n",
       "      <td>4</td>\n",
       "      <td>2</td>\n",
       "      <td>2</td>\n",
       "      <td>422</td>\n",
       "    </tr>\n",
       "    <tr>\n",
       "      <th>4387</th>\n",
       "      <td>DDD</td>\n",
       "      <td>2695608</td>\n",
       "      <td>237.0</td>\n",
       "      <td>4.0</td>\n",
       "      <td>73.0</td>\n",
       "      <td>3</td>\n",
       "      <td>2</td>\n",
       "      <td>2</td>\n",
       "      <td>322</td>\n",
       "    </tr>\n",
       "    <tr>\n",
       "      <th>4388</th>\n",
       "      <td>DDD</td>\n",
       "      <td>2698251</td>\n",
       "      <td>234.0</td>\n",
       "      <td>2.0</td>\n",
       "      <td>44.0</td>\n",
       "      <td>3</td>\n",
       "      <td>4</td>\n",
       "      <td>4</td>\n",
       "      <td>344</td>\n",
       "    </tr>\n",
       "  </tbody>\n",
       "</table>\n",
       "<p>4389 rows × 9 columns</p>\n",
       "</div>"
      ],
      "text/plain": [
       "     code_module  id_student      R    F     M  r_quartile  f_quartile  \\\n",
       "0            CCC       23698  243.0  4.0  80.0           1           2   \n",
       "1            CCC       27116  243.0  5.0  96.0           1           1   \n",
       "2            CCC       28787  243.0  2.0  44.0           1           4   \n",
       "3            CCC       29420  244.0  3.5  62.0           1           2   \n",
       "4            CCC       29639  248.0  4.0  74.0           1           2   \n",
       "...          ...         ...    ...  ...   ...         ...         ...   \n",
       "4384         DDD     2693243  230.0  4.5  82.0           4           1   \n",
       "4385         DDD     2694886  236.0  3.5  69.0           3           2   \n",
       "4386         DDD     2694933  230.0  4.0  73.0           4           2   \n",
       "4387         DDD     2695608  237.0  4.0  73.0           3           2   \n",
       "4388         DDD     2698251  234.0  2.0  44.0           3           4   \n",
       "\n",
       "      m_quartile  RFM  \n",
       "0              2  122  \n",
       "1              1  111  \n",
       "2              4  144  \n",
       "3              3  123  \n",
       "4              2  122  \n",
       "...          ...  ...  \n",
       "4384           2  412  \n",
       "4385           3  323  \n",
       "4386           2  422  \n",
       "4387           2  322  \n",
       "4388           4  344  \n",
       "\n",
       "[4389 rows x 9 columns]"
      ]
     },
     "execution_count": 32,
     "metadata": {},
     "output_type": "execute_result"
    }
   ],
   "source": [
    "rfm_analysis"
   ]
  }
 ],
 "metadata": {
  "kernelspec": {
   "display_name": "Python 3",
   "language": "python",
   "name": "python3"
  },
  "language_info": {
   "codemirror_mode": {
    "name": "ipython",
    "version": 3
   },
   "file_extension": ".py",
   "mimetype": "text/x-python",
   "name": "python",
   "nbconvert_exporter": "python",
   "pygments_lexer": "ipython3",
   "version": "3.7.3"
  }
 },
 "nbformat": 4,
 "nbformat_minor": 4
}
