{
 "cells": [
  {
   "cell_type": "markdown",
   "metadata": {},
   "source": [
    "# Загрузим данные и нужные библиотеки"
   ]
  },
  {
   "cell_type": "code",
   "execution_count": 1,
   "metadata": {},
   "outputs": [],
   "source": [
    "import numpy as np\n",
    "import pandas as pd\n",
    "\n",
    "from scipy.stats import norm, mannwhitneyu, shapiro\n",
    "from scipy.stats import chi2_contingency, chi2\n",
    "\n",
    "import seaborn as sns\n",
    "sns.set()\n",
    "\n",
    "import matplotlib.pyplot as plt"
   ]
  },
  {
   "cell_type": "code",
   "execution_count": 2,
   "metadata": {},
   "outputs": [],
   "source": [
    "# Инфо о пользователях\n",
    "active_users = pd.read_csv('https://getfile.dokpub.com/yandex/get/https://disk.yandex.ru/d/B4QnY5D5EtKa-A')\n",
    "\n",
    "# Доход с пользователей\n",
    "purchases = pd.read_csv('https://getfile.dokpub.com/yandex/get/https://disk.yandex.ru/d/AmucCdboEaowhA')\n",
    "\n",
    "# Разбивка по группам на контрольную (А) и тестовую (В)\n",
    "groups = pd.read_csv('https://getfile.dokpub.com/yandex/get/https://disk.yandex.ru/d/jP_BAw_oxS3law')"
   ]
  },
  {
   "cell_type": "markdown",
   "metadata": {},
   "source": [
    "# Проверка данных"
   ]
  },
  {
   "cell_type": "code",
   "execution_count": 3,
   "metadata": {},
   "outputs": [
    {
     "name": "stdout",
     "output_type": "stream",
     "text": [
      "Количество пустых значений в данных о группах - 0\n",
      "Количество дубликатов - 0 \n",
      "\n",
      "Количество уникальных значений - 74576 \n",
      "\n",
      "Количество пользователей в группе А - 14693 , что составляет 19.7 % от всех пользователей.\n",
      "Количество пользователей в группе B - 59883 , что составляет 80.3 % от всех пользователей.\n"
     ]
    }
   ],
   "source": [
    "print('Количество пустых значений в данных о группах -',groups.isna().sum().sum())\n",
    "print('Количество дубликатов -', groups.duplicated().sum(),'\\n')\n",
    "\n",
    "print('Количество уникальных значений -', groups.user_id.nunique(), '\\n')\n",
    "\n",
    "df_groups = groups.group.value_counts(normalize=True).mul(100)\n",
    "\n",
    "print('Количество пользователей в группе А -', groups[groups['group'] == 'A'].shape[0], \n",
    "      ', что составляет', df_groups.A.round(2), '% от всех пользователей.')\n",
    "print('Количество пользователей в группе B -', groups[groups['group'] == 'B'].shape[0], \n",
    "      ', что составляет', df_groups.B.round(2), '% от всех пользователей.')"
   ]
  },
  {
   "cell_type": "markdown",
   "metadata": {},
   "source": [
    "Всего уникальных пользователей - 74576, из них в контрольной группе примерно 20% от всех пользователей,\n",
    "в тестовой - 80% всех пользователей. \n",
    "\n",
    "Следовательно, пользователей в группе B больше в 4 раза, чем в группе А, что говорит о ненормальном распределении."
   ]
  },
  {
   "cell_type": "code",
   "execution_count": 4,
   "metadata": {},
   "outputs": [
    {
     "name": "stdout",
     "output_type": "stream",
     "text": [
      "Количество пустых значений в данных об активных пользователях - 0\n",
      "Количество дубликатов - 0 \n",
      "\n",
      "Количество уникальных значений - 8341\n"
     ]
    }
   ],
   "source": [
    "print('Количество пустых значений в данных об активных пользователях -',active_users.isna().sum().sum())\n",
    "print('Количество дубликатов -', active_users.duplicated().sum(),'\\n')\n",
    "print('Количество уникальных значений -', active_users.user_id.nunique())"
   ]
  },
  {
   "cell_type": "code",
   "execution_count": 5,
   "metadata": {},
   "outputs": [
    {
     "name": "stdout",
     "output_type": "stream",
     "text": [
      "Количество пустых значений в данных об оплате - 0\n",
      "Количество дубликатов - 0 \n",
      "\n",
      "Количество уникальных значений - 541\n"
     ]
    }
   ],
   "source": [
    "print('Количество пустых значений в данных об оплате -',purchases.isna().sum().sum())\n",
    "print('Количество дубликатов -', purchases.duplicated().sum(),'\\n')\n",
    "print('Количество уникальных значений -', purchases.user_id.nunique())"
   ]
  },
  {
   "cell_type": "markdown",
   "metadata": {},
   "source": [
    "**Рассмотрим подробнее данные об оплате**"
   ]
  },
  {
   "cell_type": "code",
   "execution_count": 6,
   "metadata": {},
   "outputs": [
    {
     "name": "stdout",
     "output_type": "stream",
     "text": [
      "Пользователи, которые не заходили во время эксперемента, но внесли оплату: \n",
      "\n",
      "Группа А: 29\n",
      "Группа B: 120 \n",
      "\n",
      "Пользователи, которые заходили во время эксперемента и внесли оплату: \n",
      "\n",
      "Группа А: 78\n",
      "Группа B: 314\n"
     ]
    }
   ],
   "source": [
    "payment_data = purchases.merge(active_users, on = 'user_id', how = 'left').merge(groups, on = 'user_id', how = 'left')\n",
    "payment_data['country'] =payment_data['country'].fillna(0)\n",
    "\n",
    "print('Пользователи, которые не заходили во время эксперемента, но внесли оплату: \\n')\n",
    "print('Группа А:',payment_data.query('country == 0 and group == \"A\"').count()[0])\n",
    "print('Группа B:',payment_data.query('country == 0 and group == \"B\"').count()[0], '\\n')\n",
    "print('Пользователи, которые заходили во время эксперемента и внесли оплату: \\n')\n",
    "print('Группа А:',payment_data.query('country != 0 and group == \"A\"').count()[0])\n",
    "print('Группа B:',payment_data.query('country != 0 and group == \"B\"').count()[0])"
   ]
  },
  {
   "cell_type": "markdown",
   "metadata": {},
   "source": [
    "Некоторые пользователи, которые не заходили в приложение, выбирали новую модель оплаты. Без их согласия им не могли поменять способ оплаты. \n",
    "\n",
    "Следовательно, либо они выбирали модель и оплачивали вне приложения, либо у них стоит продление подписки, либо это ошибка при сборе данных об активных пользователях.\n",
    "\n",
    "Значит, для анализа мы не можем исключать пользователей, которые не заходили в приложение во время эксперемента."
   ]
  },
  {
   "cell_type": "markdown",
   "metadata": {},
   "source": [
    "# Обработка данных\n",
    "\n",
    "**Проверим влияние факторов у активных пользователей. Чтобы понять, учитывать ли эти данные при общем анализе.**"
   ]
  },
  {
   "cell_type": "code",
   "execution_count": 7,
   "metadata": {},
   "outputs": [],
   "source": [
    "general_data = active_users.merge(purchases, on = 'user_id', how = 'outer').merge(groups, on = 'user_id', how = 'outer')\n",
    "general_data['revenue'] = general_data['revenue'].fillna(0)"
   ]
  },
  {
   "cell_type": "code",
   "execution_count": 8,
   "metadata": {},
   "outputs": [
    {
     "data": {
      "text/plain": [
       "<matplotlib.axes._subplots.AxesSubplot at 0x7f189cf5bdd8>"
      ]
     },
     "execution_count": 8,
     "metadata": {},
     "output_type": "execute_result"
    },
    {
     "data": {
      "image/png": "[encoded data removed]",
      "text/plain": [
       "<Figure size 1224x360 with 3 Axes>"
      ]
     },
     "metadata": {},
     "output_type": "display_data"
    }
   ],
   "source": [
    "fig, axes = plt.subplots(1, 3, figsize = (17,5))\n",
    "ax = sns.color_palette(\"Paired\")\n",
    "\n",
    "sns.countplot(data = general_data, x = 'group', hue = 'country', palette = ax, ax = axes[0])\n",
    "sns.countplot(data = general_data, x = 'group', hue = 'platform', palette = ax, ax = axes[1])\n",
    "sns.countplot(data = general_data, x = 'group', hue = 'sex', palette = ax, ax = axes[2])"
   ]
  },
  {
   "cell_type": "markdown",
   "metadata": {},
   "source": [
    "На графиках виден дисбаланс в группах **country** и **platform**.\n",
    "\n",
    "\n",
    "Поэтому нужно понять, есть ли отличия в экономических показателях в зависимости от факторов."
   ]
  },
  {
   "cell_type": "markdown",
   "metadata": {},
   "source": [
    "# A/A-тестирование"
   ]
  },
  {
   "cell_type": "markdown",
   "metadata": {},
   "source": [
    "Для проверки наших выборок проведём тест **хи-квадрат**.\n",
    "\n",
    "Так как у нас две категориальные переменные: \n",
    "- $1$ - принадлежность к тестовой или контрольной группе;\n",
    "- $2$ - принадлежность к одной из групп."
   ]
  },
  {
   "cell_type": "markdown",
   "metadata": {},
   "source": [
    "**Зависимость выборки по странам**"
   ]
  },
  {
   "cell_type": "code",
   "execution_count": 9,
   "metadata": {},
   "outputs": [
    {
     "name": "stdout",
     "output_type": "stream",
     "text": [
      "p-value =  1.4440642250057943e-06 \n",
      "\n",
      "Выборки независимы друг от друга.\n"
     ]
    }
   ],
   "source": [
    "aa_country = pd.crosstab(general_data.group, general_data.country)\n",
    "stat, p, dof, expected = chi2_contingency(aa_country)\n",
    "print('p-value = ', p, '\\n')\n",
    "if p <= 0.05:\n",
    "    print('Выборки независимы друг от друга.')\n",
    "else:\n",
    "    print('Выборки зависимы между собой.')"
   ]
  },
  {
   "cell_type": "markdown",
   "metadata": {},
   "source": [
    "Так как выборка тестовой групп по странам была независима от контрольной, мы будем проводить A/B-тест с разделением по странам и  сравнивать их между собой."
   ]
  },
  {
   "cell_type": "markdown",
   "metadata": {},
   "source": [
    "**Зависимость выборки по платформам**"
   ]
  },
  {
   "cell_type": "code",
   "execution_count": 10,
   "metadata": {},
   "outputs": [
    {
     "name": "stdout",
     "output_type": "stream",
     "text": [
      "p-value =  0.31833776540573483 \n",
      "\n",
      "Выборки зависимы между собой.\n"
     ]
    }
   ],
   "source": [
    "aa_platform = pd.crosstab(general_data.group, general_data.platform)\n",
    "stat, p, dof, expected = chi2_contingency(aa_platform)\n",
    "print('p-value = ', p, '\\n')\n",
    "if p <= 0.05:\n",
    "    print('Выборки независимы друг от друга.')\n",
    "else:\n",
    "    print('Выборки зависимы между собой.')"
   ]
  },
  {
   "cell_type": "markdown",
   "metadata": {},
   "source": [
    "Следовательно, платформу можно не учитывать при анализе."
   ]
  },
  {
   "cell_type": "markdown",
   "metadata": {},
   "source": [
    "**Зависимость выборки по полу**"
   ]
  },
  {
   "cell_type": "code",
   "execution_count": 11,
   "metadata": {},
   "outputs": [
    {
     "name": "stdout",
     "output_type": "stream",
     "text": [
      "p-value =  0.5420161465061012 \n",
      "\n",
      "Выборки зависимы между собой.\n"
     ]
    }
   ],
   "source": [
    "aa_sex = pd.crosstab(general_data.group, general_data.sex)\n",
    "stat, p, dof, expected = chi2_contingency(aa_sex)\n",
    "print('p-value = ', p, '\\n')\n",
    "if p <= 0.05:\n",
    "    print('Выборки независимы друг от друга.')\n",
    "else:\n",
    "    print('Выборки зависимы между собой.')"
   ]
  },
  {
   "cell_type": "markdown",
   "metadata": {},
   "source": [
    "Так же, как и с платформами, пол пользователей мы учитывать не будем."
   ]
  },
  {
   "cell_type": "markdown",
   "metadata": {},
   "source": [
    "# A/B-тестирование"
   ]
  },
  {
   "cell_type": "markdown",
   "metadata": {},
   "source": [
    "# CR - Конверсия пользователя в клиента (в покупку) по группам"
   ]
  },
  {
   "cell_type": "markdown",
   "metadata": {},
   "source": [
    "                                                   Общие данные"
   ]
  },
  {
   "cell_type": "code",
   "execution_count": 12,
   "metadata": {},
   "outputs": [
    {
     "name": "stdout",
     "output_type": "stream",
     "text": [
      "Конверсия в контрольной группе:  0.73 %\n",
      "Конверсия в тестовой группе:  0.72 %\n"
     ]
    }
   ],
   "source": [
    "cr_a = general_data.query('revenue > 0 and group == \"A\"').user_id.count() \\\n",
    "/general_data.query('group == \"A\"').user_id.count() * 100\n",
    "print('Конверсия в контрольной группе: ', cr_a.round(2), '%')\n",
    "\n",
    "cr_b = general_data.query('revenue > 0 and group == \"B\"').user_id.count() \\\n",
    "/general_data.query('group == \"B\"').user_id.count() * 100\n",
    "print('Конверсия в тестовой группе: ', cr_b.round(2), '%')"
   ]
  },
  {
   "cell_type": "markdown",
   "metadata": {},
   "source": [
    "Доля платящих пользователей в тестовой и в контрольной группах примерно одинакова."
   ]
  },
  {
   "cell_type": "markdown",
   "metadata": {},
   "source": [
    "Чтобы убедиться в этом, сделаем тест **хи-квадрат**.\n",
    "\n",
    "Так как у нас две категориальные переменные: \n",
    "- $1$ - принадлежность к тестовой или контрольной группе;\n",
    "- $2$ - факта оплаты.\n",
    "\n",
    "Сформулируем гипотезы:\n",
    "- $H_0$: конверсии в группе A и B **одинаковые**;\n",
    "- $H_1$: конверсии в группе A и B **разные**."
   ]
  },
  {
   "cell_type": "code",
   "execution_count": 13,
   "metadata": {},
   "outputs": [],
   "source": [
    "general_data['purchases'] = general_data.revenue.apply(lambda x: 1 if x>0 else 0)"
   ]
  },
  {
   "cell_type": "markdown",
   "metadata": {},
   "source": [
    "                                                       Russia"
   ]
  },
  {
   "cell_type": "code",
   "execution_count": 14,
   "metadata": {},
   "outputs": [
    {
     "name": "stdout",
     "output_type": "stream",
     "text": [
      "p-value =  0.7397861776034413\n",
      "\n",
      "Уровень значимости больше 0.05\n",
      "Не отклоняем H0\n"
     ]
    }
   ],
   "source": [
    "cr_russia = pd.crosstab(general_data.query('country == \"Russia\"').group, general_data.query('country == \"Russia\"').purchases)\n",
    "stat, p, dof, expected = chi2_contingency(cr_russia)\n",
    "print('p-value = ', p)\n",
    "\n",
    "if p <= 0.05:\n",
    "    print('\\nУровень значимости меньше 0.05\\nОтклоняем H0')\n",
    "else:\n",
    "    print('\\nУровень значимости больше 0.05\\nНе отклоняем H0')"
   ]
  },
  {
   "cell_type": "markdown",
   "metadata": {},
   "source": [
    "                                                       Sweden"
   ]
  },
  {
   "cell_type": "code",
   "execution_count": 15,
   "metadata": {},
   "outputs": [
    {
     "name": "stdout",
     "output_type": "stream",
     "text": [
      "p-value =  0.6504727896095026\n",
      "\n",
      "Уровень значимости больше 0.05\n",
      "Не отклоняем H0\n"
     ]
    }
   ],
   "source": [
    "cr_sweden = pd.crosstab(general_data.query('country == \"Sweden\"').group, general_data.query('country == \"Sweden\"').purchases)\n",
    "stat, p, dof, expected = chi2_contingency(cr_sweden)\n",
    "print('p-value = ', p)\n",
    "\n",
    "if p <= 0.05:\n",
    "    print('\\nУровень значимости меньше 0.05\\nОтклоняем H0')\n",
    "else:\n",
    "    print('\\nУровень значимости больше 0.05\\nНе отклоняем H0')"
   ]
  },
  {
   "cell_type": "markdown",
   "metadata": {},
   "source": [
    "                                                Неактивные пользователи"
   ]
  },
  {
   "cell_type": "code",
   "execution_count": 16,
   "metadata": {},
   "outputs": [
    {
     "name": "stdout",
     "output_type": "stream",
     "text": [
      "p-value =  0.9847399648396614\n",
      "\n",
      "Уровень значимости больше 0.05\n",
      "Не отклоняем H0\n"
     ]
    }
   ],
   "source": [
    "cr_nan = pd.crosstab(general_data.query('country != \"Sweden\" and country != \"Russia\"').group, \n",
    "                     general_data.query('country != \"Sweden\" and country != \"Russia\"').purchases)\n",
    "stat, p, dof, expected = chi2_contingency(cr_nan)\n",
    "print('p-value = ', p)\n",
    "\n",
    "if p <= 0.05:\n",
    "    print('\\nУровень значимости меньше 0.05\\nОтклоняем H0')\n",
    "else:\n",
    "    print('\\nУровень значимости больше 0.05\\nНе отклоняем H0')"
   ]
  },
  {
   "cell_type": "markdown",
   "metadata": {},
   "source": [
    "Тест показал, что статистически значимых различий нет. \n",
    "\n",
    "Значит, эксперимент не повлиял на конверсию пользователя в клиента."
   ]
  },
  {
   "cell_type": "markdown",
   "metadata": {},
   "source": [
    "# Вывод по CR:\n",
    "\n",
    "Данный эксперимент не повлиял на увеличение конверсии ни в одном из случаев.\n",
    "\n",
    "Следовательно, количество пользователей, которые готовы платить за продукт, не изменилось."
   ]
  },
  {
   "cell_type": "markdown",
   "metadata": {},
   "source": [
    "# ARPPU - Средняя выручка на одного платящего пользователя"
   ]
  },
  {
   "cell_type": "markdown",
   "metadata": {},
   "source": [
    "                                                   Общие данные"
   ]
  },
  {
   "cell_type": "code",
   "execution_count": 17,
   "metadata": {},
   "outputs": [
    {
     "name": "stdout",
     "output_type": "stream",
     "text": [
      "ARPPU контрольной группы: 870.67\n",
      "ARPPU тестовой группы: 1118.84\n"
     ]
    }
   ],
   "source": [
    "arppu_a = general_data.query('group == \"A\"').revenue.sum() / general_data.query('group == \"A\" and revenue > 0').revenue.count()\n",
    "print('ARPPU контрольной группы:', arppu_a.round(2))\n",
    "\n",
    "arppu_b = general_data.query('group == \"B\"').revenue.sum() / general_data.query('group == \"B\" and revenue > 0').revenue.count()\n",
    "print('ARPPU тестовой группы:',arppu_b.round(2))"
   ]
  },
  {
   "cell_type": "markdown",
   "metadata": {},
   "source": [
    "Средняя выручка с платящего пользователя в тестовой группе выше, чем в контрольной на 248.17.\n",
    "\n",
    "Из чего следует, что в тестовой группе клиенты готовы были заплатить большую сумму за предложение, чем в контрольной."
   ]
  },
  {
   "cell_type": "markdown",
   "metadata": {},
   "source": [
    "# 1 часть"
   ]
  },
  {
   "cell_type": "code",
   "execution_count": 18,
   "metadata": {},
   "outputs": [
    {
     "data": {
      "text/plain": [
       "<seaborn.axisgrid.FacetGrid at 0x7f189c7fd5c0>"
      ]
     },
     "execution_count": 18,
     "metadata": {},
     "output_type": "execute_result"
    },
    {
     "data": {
      "image/png": "[encoded data removed]",
      "text/plain": [
       "<Figure size 407.1x360 with 1 Axes>"
      ]
     },
     "metadata": {},
     "output_type": "display_data"
    }
   ],
   "source": [
    "sns.displot(data=general_data.query('revenue > 0'), x='revenue', hue='group')"
   ]
  },
  {
   "cell_type": "markdown",
   "metadata": {},
   "source": [
    "На графике видно, что распределение выручки среди групп не является нормальным.\n",
    "\n",
    "Чтобы убедиться в этом, сделаем тест **Шапиро-Уилка**.\n",
    "\n",
    "Сформулируем гипотезы:\n",
    "- $H_0$: тестовая и контрольная группы **распределены нормально**;\n",
    "- $H_1$: тестовая и контрольная группы **распределены не нормально**."
   ]
  },
  {
   "cell_type": "markdown",
   "metadata": {},
   "source": [
    "                                                       Russia"
   ]
  },
  {
   "cell_type": "code",
   "execution_count": 19,
   "metadata": {},
   "outputs": [
    {
     "name": "stdout",
     "output_type": "stream",
     "text": [
      "p-value контрольной группы: 1.4414956916828995e-38\n",
      "\n",
      "Уровень значимости меньше 0.05\n",
      "Отклоняем H0\n",
      "\n",
      "p-value тестовой группы: 2.3466941186098345e-28\n",
      "\n",
      "Уровень значимости меньше 0.05\n",
      "Отклоняем H0\n"
     ]
    }
   ],
   "source": [
    "p1 = shapiro(general_data.query('group == \"A\" and revenue > 0 and country == \"Russia\"') \\\n",
    "             .revenue.sample(1000, replace = True))[1]\n",
    "p2 = shapiro(general_data.query('group == \"B\" and revenue > 0 and country == \"Russia\"') \\\n",
    "             .revenue.sample(1000, replace = True))[1]\n",
    "print('p-value контрольной группы:', p1)\n",
    "\n",
    "if p1 <= 0.05:\n",
    "    print('\\nУровень значимости меньше 0.05\\nОтклоняем H0')\n",
    "else:\n",
    "    print('\\nУровень значимости больше 0.05\\nНе отклоняем H0')\n",
    "\n",
    "print('\\np-value тестовой группы:',p2)\n",
    "\n",
    "if p2 <= 0.05:\n",
    "    print('\\nУровень значимости меньше 0.05\\nОтклоняем H0')\n",
    "else:\n",
    "    print('\\nУровень значимости больше 0.05\\nНе отклоняем H0')"
   ]
  },
  {
   "cell_type": "markdown",
   "metadata": {},
   "source": [
    "                                                       Sweden"
   ]
  },
  {
   "cell_type": "code",
   "execution_count": 20,
   "metadata": {},
   "outputs": [
    {
     "name": "stdout",
     "output_type": "stream",
     "text": [
      "p-value контрольной группы: 5.813073834346199e-35\n",
      "\n",
      "Уровень значимости меньше 0.05\n",
      "Отклоняем H0\n",
      "\n",
      "p-value тестовой группы: 4.477178872903434e-30\n",
      "\n",
      "Уровень значимости меньше 0.05\n",
      "Отклоняем H0\n"
     ]
    }
   ],
   "source": [
    "p1 = shapiro(general_data.query('group == \"A\" and revenue > 0 and country == \"Sweden\"') \\\n",
    "             .revenue.sample(1000, replace = True))[1]\n",
    "p2 = shapiro(general_data.query('group == \"B\" and revenue > 0 and country == \"Sweden\"') \\\n",
    "             .revenue.sample(1000, replace = True))[1]\n",
    "\n",
    "print('p-value контрольной группы:', p1)\n",
    "\n",
    "if p1 <= 0.05:\n",
    "    print('\\nУровень значимости меньше 0.05\\nОтклоняем H0')\n",
    "else:\n",
    "    print('\\nУровень значимости больше 0.05\\nНе отклоняем H0')\n",
    "\n",
    "print('\\np-value тестовой группы:',p2)\n",
    "\n",
    "if p2 <= 0.05:\n",
    "    print('\\nУровень значимости меньше 0.05\\nОтклоняем H0')\n",
    "else:\n",
    "    print('\\nУровень значимости больше 0.05\\nНе отклоняем H0')"
   ]
  },
  {
   "cell_type": "markdown",
   "metadata": {},
   "source": [
    "                                                 Неактивные пользователи"
   ]
  },
  {
   "cell_type": "code",
   "execution_count": 21,
   "metadata": {},
   "outputs": [
    {
     "name": "stdout",
     "output_type": "stream",
     "text": [
      "p-value контрольной группы: 3.4382497118101724e-33\n",
      "\n",
      "Уровень значимости меньше 0.05\n",
      "Отклоняем H0\n",
      "\n",
      "p-value тестовой группы: 8.787917224916877e-28\n",
      "\n",
      "Уровень значимости меньше 0.05\n",
      "Отклоняем H0\n"
     ]
    }
   ],
   "source": [
    "p1 = shapiro(general_data.query('group == \"A\" and revenue > 0 and country != \"Sweden\" and country != \"Russia\"') \\\n",
    "             .revenue.sample(1000, replace = True))[1]\n",
    "p2 = shapiro(general_data.query('group == \"B\" and revenue > 0 and country != \"Sweden\" and country != \"Russia\"') \\\n",
    "             .revenue.sample(1000, replace = True))[1]\n",
    "print('p-value контрольной группы:', p1)\n",
    "\n",
    "if p1 <= 0.05:\n",
    "    print('\\nУровень значимости меньше 0.05\\nОтклоняем H0')\n",
    "else:\n",
    "    print('\\nУровень значимости больше 0.05\\nНе отклоняем H0')\n",
    "\n",
    "print('\\np-value тестовой группы:',p2)\n",
    "\n",
    "if p2 <= 0.05:\n",
    "    print('\\nУровень значимости меньше 0.05\\nОтклоняем H0')\n",
    "else:\n",
    "    print('\\nУровень значимости больше 0.05\\nНе отклоняем H0')"
   ]
  },
  {
   "cell_type": "markdown",
   "metadata": {},
   "source": [
    "Распределение выручки не является нормальным, так как уровень значимости во всех случаях меньше 0.05"
   ]
  },
  {
   "cell_type": "markdown",
   "metadata": {},
   "source": [
    "# 2 часть"
   ]
  },
  {
   "cell_type": "markdown",
   "metadata": {},
   "source": [
    "Поэтому будем применять тест **Манна-Уитни**\n",
    "\n",
    "Сформулируем гипотезы:\n",
    "- $H_0$: средние чеки в контрольной и тестовой группах **эквивалентны**;\n",
    "- $H_1$: средние чеки в контрольной и тестовой группах **различны**."
   ]
  },
  {
   "cell_type": "markdown",
   "metadata": {},
   "source": [
    "                                                       Russia"
   ]
  },
  {
   "cell_type": "code",
   "execution_count": 22,
   "metadata": {},
   "outputs": [
    {
     "name": "stdout",
     "output_type": "stream",
     "text": [
      "p-value = 0.0014699816493472517\n",
      "\n",
      "Уровень значимости меньше 0.05\n",
      "Отклоняем H0\n"
     ]
    }
   ],
   "source": [
    "p = mannwhitneyu(general_data.query('group == \"A\" and revenue > 0 and country == \"Russia\"').revenue, \n",
    "                   general_data.query('group == \"B\" and revenue > 0 and country == \"Russia\"').revenue)[1]\n",
    "print('p-value =', p)\n",
    "\n",
    "if p <= 0.05:\n",
    "    print('\\nУровень значимости меньше 0.05\\nОтклоняем H0')\n",
    "else:\n",
    "    print('\\nУровень значимости больше 0.05\\nНе отклоняем H0')"
   ]
  },
  {
   "cell_type": "markdown",
   "metadata": {},
   "source": [
    "                                                       Sweden"
   ]
  },
  {
   "cell_type": "code",
   "execution_count": 23,
   "metadata": {},
   "outputs": [
    {
     "name": "stdout",
     "output_type": "stream",
     "text": [
      "p-value = 0.03958280081671394\n",
      "\n",
      "Уровень значимости меньше 0.05\n",
      "Отклоняем H0\n"
     ]
    }
   ],
   "source": [
    "p = mannwhitneyu(general_data.query('group == \"A\" and revenue > 0 and country == \"Sweden\"').revenue, \n",
    "                   general_data.query('group == \"B\" and revenue > 0 and country == \"Sweden\"').revenue)[1]\n",
    "print('p-value =', p)\n",
    "\n",
    "if p <= 0.05:\n",
    "    print('\\nУровень значимости меньше 0.05\\nОтклоняем H0')\n",
    "else:\n",
    "    print('\\nУровень значимости больше 0.05\\nНе отклоняем H0')"
   ]
  },
  {
   "cell_type": "markdown",
   "metadata": {},
   "source": [
    "Уровень значимости меньше 0.05 в случаях, когда мы значем, из какой страны пользователь.\n",
    "\n",
    "Следовательно, мы **отклоняем нулевую гипотезу** о равенстве средних чеков в случае с Russia и Sweden.\n",
    "\n",
    "Итог: \n",
    "- $1$ - обе страны показали примерно одинаковые результаты теста, поэтому их можно не разделять при проверки бутстрапом;\n",
    "- $2$ - средние чеки в контрольной и тестовой группах различны."
   ]
  },
  {
   "cell_type": "markdown",
   "metadata": {},
   "source": [
    "                                                 Неактивные пользователи"
   ]
  },
  {
   "cell_type": "code",
   "execution_count": 24,
   "metadata": {},
   "outputs": [
    {
     "name": "stdout",
     "output_type": "stream",
     "text": [
      "p-value = 0.32858504025883084\n",
      "\n",
      "Уровень значимости больше 0.05\n",
      "Не отклоняем H0\n"
     ]
    }
   ],
   "source": [
    "p = mannwhitneyu(general_data.query('group == \"A\" and revenue > 0 and country != \"Sweden\" and country != \"Russia\"').revenue, \n",
    "                   general_data.query('group == \"B\" and revenue > 0 and country != \"Sweden\" and country != \"Russia\"').revenue)[1]\n",
    "print('p-value =', p)\n",
    "\n",
    "if p <= 0.05:\n",
    "    print('\\nУровень значимости меньше 0.05\\nОтклоняем H0')\n",
    "else:\n",
    "    print('\\nУровень значимости больше 0.05\\nНе отклоняем H0')"
   ]
  },
  {
   "cell_type": "markdown",
   "metadata": {},
   "source": [
    "В случае с пользователями, которые не заходили во время эксперимента в приложение - средний чек не увеличился.\n",
    "Следовательно, в этом случае мы не можем отклонить нулевую гипотезу."
   ]
  },
  {
   "cell_type": "markdown",
   "metadata": {},
   "source": [
    "# 3 часть"
   ]
  },
  {
   "cell_type": "markdown",
   "metadata": {},
   "source": [
    "**Проверим гипотезу с помощью Bootstrap**"
   ]
  },
  {
   "cell_type": "code",
   "execution_count": 25,
   "metadata": {},
   "outputs": [],
   "source": [
    "def get_bootstrap(\n",
    "    control, \n",
    "    test, \n",
    "    statistic,\n",
    "    boot_it, \n",
    "    boot_conf_level = 0.95\n",
    "):\n",
    "    boot_len = max([len(control), len(test)])\n",
    "    boot_data = []\n",
    "    for i in range(boot_it):\n",
    "        samples_1 = control.sample(boot_len, replace = True).values\n",
    "        samples_2 = test.sample(boot_len, replace = True).values\n",
    "        \n",
    "        boot_data.append(statistic(samples_1-samples_2))\n",
    "        \n",
    "    pd_boot_data = pd.DataFrame(boot_data)\n",
    "\n",
    "    # Доверительный интервал:\n",
    "    \n",
    "    left_quant = (1 - boot_conf_level)/2\n",
    "    right_quant = 1 - (1 - boot_conf_level)/2\n",
    "    ci = pd_boot_data.quantile([left_quant, right_quant])\n",
    "    \n",
    "    p_1 = norm.cdf(\n",
    "        x = 0, \n",
    "        loc = np.mean(boot_data), \n",
    "        scale = np.std(boot_data))\n",
    "        \n",
    "    p_2 = norm.cdf(\n",
    "        x = 0, \n",
    "        loc = -np.mean(boot_data), \n",
    "        scale = np.std(boot_data))\n",
    "        \n",
    "    p_value = min(p_1, p_2) * 2\n",
    "    \n",
    "        \n",
    "    # Визуализация:\n",
    "    \n",
    "    plt.hist(pd_boot_data[0], bins = 50)\n",
    "    \n",
    "    plt.style.use('ggplot')\n",
    "    plt.vlines(ci,ymin=0,ymax=50,linestyle='--')\n",
    "    plt.xlabel('boot_data')\n",
    "    plt.ylabel('frequency')\n",
    "    plt.title(\"Histogram of boot_data\")\n",
    "    plt.show()\n",
    "    \n",
    "    return{\"boot_data\": boot_data, \"ci\": ci, \"p_value\": p_value}"
   ]
  },
  {
   "cell_type": "markdown",
   "metadata": {},
   "source": [
    "                                                 Активные пользователи"
   ]
  },
  {
   "cell_type": "code",
   "execution_count": 26,
   "metadata": {},
   "outputs": [],
   "source": [
    "control = general_data.query('revenue > 0 and group == \"A\" and (country == \"Sweden\" or country == \"Russia\")').revenue\n",
    "test = general_data.query('revenue > 0 and group == \"B\" and (country == \"Sweden\" or country == \"Russia\")').revenue"
   ]
  },
  {
   "cell_type": "code",
   "execution_count": 27,
   "metadata": {},
   "outputs": [
    {
     "data": {
      "image/png": "[encoded data removed]",
      "text/plain": [
       "<Figure size 432x288 with 1 Axes>"
      ]
     },
     "metadata": {},
     "output_type": "display_data"
    },
    {
     "name": "stdout",
     "output_type": "stream",
     "text": [
      "p_value =  1.3698530093103236e-06\n",
      "\n",
      "Уровень значимости меньше 0.05\n",
      "Отклоняем H0\n"
     ]
    },
    {
     "data": {
      "text/html": [
       "<div>\n",
       "<style scoped>\n",
       "    .dataframe tbody tr th:only-of-type {\n",
       "        vertical-align: middle;\n",
       "    }\n",
       "\n",
       "    .dataframe tbody tr th {\n",
       "        vertical-align: top;\n",
       "    }\n",
       "\n",
       "    .dataframe thead th {\n",
       "        text-align: right;\n",
       "    }\n",
       "</style>\n",
       "<table border=\"1\" class=\"dataframe\">\n",
       "  <thead>\n",
       "    <tr style=\"text-align: right;\">\n",
       "      <th></th>\n",
       "      <th>0</th>\n",
       "    </tr>\n",
       "  </thead>\n",
       "  <tbody>\n",
       "    <tr>\n",
       "      <th>0.025</th>\n",
       "      <td>-454.505175</td>\n",
       "    </tr>\n",
       "    <tr>\n",
       "      <th>0.975</th>\n",
       "      <td>-191.778583</td>\n",
       "    </tr>\n",
       "  </tbody>\n",
       "</table>\n",
       "</div>"
      ],
      "text/plain": [
       "                0\n",
       "0.025 -454.505175\n",
       "0.975 -191.778583"
      ]
     },
     "execution_count": 27,
     "metadata": {},
     "output_type": "execute_result"
    }
   ],
   "source": [
    "booted_data = get_bootstrap(control, test, boot_it = 1000, statistic = np.mean)\n",
    "print('p_value = ',booted_data['p_value'])\n",
    "if booted_data['p_value'] <= 0.05:\n",
    "    print('\\nУровень значимости меньше 0.05\\nОтклоняем H0')\n",
    "else:\n",
    "    print('\\nУровень значимости больше 0.05\\nНе отклоняем H0')\n",
    "booted_data['ci']"
   ]
  },
  {
   "cell_type": "code",
   "execution_count": 28,
   "metadata": {},
   "outputs": [
    {
     "data": {
      "image/png": "[encoded data removed]",
      "text/plain": [
       "<Figure size 432x288 with 1 Axes>"
      ]
     },
     "metadata": {},
     "output_type": "display_data"
    },
    {
     "name": "stdout",
     "output_type": "stream",
     "text": [
      "p_value =  2.4853633603022395e-05\n",
      "\n",
      "Уровень значимости меньше 0.05\n",
      "Отклоняем H0\n"
     ]
    },
    {
     "data": {
      "text/html": [
       "<div>\n",
       "<style scoped>\n",
       "    .dataframe tbody tr th:only-of-type {\n",
       "        vertical-align: middle;\n",
       "    }\n",
       "\n",
       "    .dataframe tbody tr th {\n",
       "        vertical-align: top;\n",
       "    }\n",
       "\n",
       "    .dataframe thead th {\n",
       "        text-align: right;\n",
       "    }\n",
       "</style>\n",
       "<table border=\"1\" class=\"dataframe\">\n",
       "  <thead>\n",
       "    <tr style=\"text-align: right;\">\n",
       "      <th></th>\n",
       "      <th>0</th>\n",
       "    </tr>\n",
       "  </thead>\n",
       "  <tbody>\n",
       "    <tr>\n",
       "      <th>0.025</th>\n",
       "      <td>-578.5000</td>\n",
       "    </tr>\n",
       "    <tr>\n",
       "      <th>0.975</th>\n",
       "      <td>-224.9875</td>\n",
       "    </tr>\n",
       "  </tbody>\n",
       "</table>\n",
       "</div>"
      ],
      "text/plain": [
       "              0\n",
       "0.025 -578.5000\n",
       "0.975 -224.9875"
      ]
     },
     "execution_count": 28,
     "metadata": {},
     "output_type": "execute_result"
    }
   ],
   "source": [
    "booted_data = get_bootstrap(control, test, boot_it = 1000, statistic = np.median)\n",
    "print('p_value = ',booted_data['p_value'])\n",
    "if booted_data['p_value'] <= 0.05:\n",
    "    print('\\nУровень значимости меньше 0.05\\nОтклоняем H0')\n",
    "else:\n",
    "    print('\\nУровень значимости больше 0.05\\nНе отклоняем H0')\n",
    "booted_data['ci']"
   ]
  },
  {
   "cell_type": "markdown",
   "metadata": {},
   "source": [
    "Можно заметить, что на обоих графиках (с медианой и со средним значениями) 0 не попадает в доверительный интервал.\n",
    "\n",
    "На это указывает и значение уровня значимости, в обоих случях меньше 0.05\n",
    "\n",
    "Следовательно, нулевая гипотеза о равенстве средних чеков между активными пользователями **не принимается**. \n",
    "\n",
    "**Итог:** ARPPU тестовой группы больше, чем ARPPU контрольной."
   ]
  },
  {
   "cell_type": "markdown",
   "metadata": {},
   "source": [
    "                                                 Неактивные пользователи"
   ]
  },
  {
   "cell_type": "code",
   "execution_count": 29,
   "metadata": {},
   "outputs": [],
   "source": [
    "control = general_data.query('revenue > 0 and group == \"A\" and country != \"Sweden\" and country != \"Russia\"').revenue\n",
    "test = general_data.query('revenue > 0 and group == \"B\" and country != \"Sweden\" and country != \"Russia\"').revenue"
   ]
  },
  {
   "cell_type": "code",
   "execution_count": 30,
   "metadata": {},
   "outputs": [
    {
     "data": {
      "image/png": "[encoded data removed]",
      "text/plain": [
       "<Figure size 432x288 with 1 Axes>"
      ]
     },
     "metadata": {},
     "output_type": "display_data"
    },
    {
     "name": "stdout",
     "output_type": "stream",
     "text": [
      "p_value =  0.241159533045058\n",
      "\n",
      "Уровень значимости больше 0.05\n",
      "Не отклоняем H0\n"
     ]
    },
    {
     "data": {
      "text/html": [
       "<div>\n",
       "<style scoped>\n",
       "    .dataframe tbody tr th:only-of-type {\n",
       "        vertical-align: middle;\n",
       "    }\n",
       "\n",
       "    .dataframe tbody tr th {\n",
       "        vertical-align: top;\n",
       "    }\n",
       "\n",
       "    .dataframe thead th {\n",
       "        text-align: right;\n",
       "    }\n",
       "</style>\n",
       "<table border=\"1\" class=\"dataframe\">\n",
       "  <thead>\n",
       "    <tr style=\"text-align: right;\">\n",
       "      <th></th>\n",
       "      <th>0</th>\n",
       "    </tr>\n",
       "  </thead>\n",
       "  <tbody>\n",
       "    <tr>\n",
       "      <th>0.025</th>\n",
       "      <td>-144.761875</td>\n",
       "    </tr>\n",
       "    <tr>\n",
       "      <th>0.975</th>\n",
       "      <td>39.143125</td>\n",
       "    </tr>\n",
       "  </tbody>\n",
       "</table>\n",
       "</div>"
      ],
      "text/plain": [
       "                0\n",
       "0.025 -144.761875\n",
       "0.975   39.143125"
      ]
     },
     "execution_count": 30,
     "metadata": {},
     "output_type": "execute_result"
    }
   ],
   "source": [
    "booted_data = get_bootstrap(control, test, boot_it = 1000, statistic = np.mean)\n",
    "print('p_value = ',booted_data['p_value'])\n",
    "if booted_data['p_value'] <= 0.05:\n",
    "    print('\\nУровень значимости меньше 0.05\\nОтклоняем H0')\n",
    "else:\n",
    "    print('\\nУровень значимости больше 0.05\\nНе отклоняем H0')\n",
    "booted_data['ci']"
   ]
  },
  {
   "cell_type": "code",
   "execution_count": 31,
   "metadata": {},
   "outputs": [
    {
     "data": {
      "image/png": "[encoded data removed]",
      "text/plain": [
       "<Figure size 432x288 with 1 Axes>"
      ]
     },
     "metadata": {},
     "output_type": "display_data"
    },
    {
     "name": "stdout",
     "output_type": "stream",
     "text": [
      "p_value =  0.8425279047098214\n",
      "\n",
      "Уровень значимости больше 0.05\n",
      "Не отклоняем H0\n"
     ]
    },
    {
     "data": {
      "text/html": [
       "<div>\n",
       "<style scoped>\n",
       "    .dataframe tbody tr th:only-of-type {\n",
       "        vertical-align: middle;\n",
       "    }\n",
       "\n",
       "    .dataframe tbody tr th {\n",
       "        vertical-align: top;\n",
       "    }\n",
       "\n",
       "    .dataframe thead th {\n",
       "        text-align: right;\n",
       "    }\n",
       "</style>\n",
       "<table border=\"1\" class=\"dataframe\">\n",
       "  <thead>\n",
       "    <tr style=\"text-align: right;\">\n",
       "      <th></th>\n",
       "      <th>0</th>\n",
       "    </tr>\n",
       "  </thead>\n",
       "  <tbody>\n",
       "    <tr>\n",
       "      <th>0.025</th>\n",
       "      <td>-75.8625</td>\n",
       "    </tr>\n",
       "    <tr>\n",
       "      <th>0.975</th>\n",
       "      <td>0.0000</td>\n",
       "    </tr>\n",
       "  </tbody>\n",
       "</table>\n",
       "</div>"
      ],
      "text/plain": [
       "             0\n",
       "0.025 -75.8625\n",
       "0.975   0.0000"
      ]
     },
     "execution_count": 31,
     "metadata": {},
     "output_type": "execute_result"
    }
   ],
   "source": [
    "booted_data = get_bootstrap(control, test, boot_it = 1000, statistic = np.median)\n",
    "print('p_value = ',booted_data['p_value'])\n",
    "if booted_data['p_value'] <= 0.05:\n",
    "    print('\\nУровень значимости меньше 0.05\\nОтклоняем H0')\n",
    "else:\n",
    "    print('\\nУровень значимости больше 0.05\\nНе отклоняем H0')\n",
    "booted_data['ci']"
   ]
  },
  {
   "cell_type": "markdown",
   "metadata": {},
   "source": [
    "- $1$ - В обоих случаях (с медианой и со средним значениями) 0 попадает в доверительный интервал;\n",
    "- $2$ -Так же уровень значимости больше 0.05.\n",
    "\n",
    "Следовательно, средние чеки в контрольной и тестовой группах эквивалентны.\n",
    "\n",
    "**Итог:** ARPPU тестовой группы равен ARPPU контрольной."
   ]
  },
  {
   "cell_type": "markdown",
   "metadata": {},
   "source": [
    "# Вывод по ARPPU:\n",
    "\n",
    "В случае с активными пользователями - средний чек увеличился.\n",
    "\n",
    "Неактивные пользователи покупали товар по старой цене."
   ]
  },
  {
   "cell_type": "markdown",
   "metadata": {},
   "source": [
    "# ARPU - Средний доход с привлечённого пользователя"
   ]
  },
  {
   "cell_type": "markdown",
   "metadata": {},
   "source": [
    "                                                   Общие данные"
   ]
  },
  {
   "cell_type": "code",
   "execution_count": 32,
   "metadata": {},
   "outputs": [
    {
     "name": "stdout",
     "output_type": "stream",
     "text": [
      "ARPU контрольной группы: 6.34\n",
      "ARPU тестовой группы: 8.11\n"
     ]
    }
   ],
   "source": [
    "arpu_a = arppu_a * (cr_a/100)\n",
    "arpu_b = arppu_b * (cr_b/100)\n",
    "print('ARPU контрольной группы:',arpu_a.round(2))\n",
    "print('ARPU тестовой группы:',arpu_b.round(2))"
   ]
  },
  {
   "cell_type": "markdown",
   "metadata": {},
   "source": [
    "Средний доход с привлеченных пользователей в тестовой группе больше, чем в контрольной группе на 1.77.\n",
    "\n",
    "Сформулируем гипотезы:\n",
    "- $H_0$: средний доход с привлечённого пользователя в контрольной и тестовой группах **одинаковый**;\n",
    "- $H_1$: средний доход с привлечённого пользователя в контрольной и тестовой группах **различны**."
   ]
  },
  {
   "cell_type": "markdown",
   "metadata": {},
   "source": [
    "                                                       Russia"
   ]
  },
  {
   "cell_type": "code",
   "execution_count": 33,
   "metadata": {},
   "outputs": [
    {
     "data": {
      "image/png": "[encoded data removed]",
      "text/plain": [
       "<Figure size 432x288 with 1 Axes>"
      ]
     },
     "metadata": {},
     "output_type": "display_data"
    },
    {
     "name": "stdout",
     "output_type": "stream",
     "text": [
      "p_value =  0.010743967597218695\n",
      "\n",
      "Уровень значимости меньше 0.05\n",
      "Отклоняем H0\n"
     ]
    },
    {
     "data": {
      "text/html": [
       "<div>\n",
       "<style scoped>\n",
       "    .dataframe tbody tr th:only-of-type {\n",
       "        vertical-align: middle;\n",
       "    }\n",
       "\n",
       "    .dataframe tbody tr th {\n",
       "        vertical-align: top;\n",
       "    }\n",
       "\n",
       "    .dataframe thead th {\n",
       "        text-align: right;\n",
       "    }\n",
       "</style>\n",
       "<table border=\"1\" class=\"dataframe\">\n",
       "  <thead>\n",
       "    <tr style=\"text-align: right;\">\n",
       "      <th></th>\n",
       "      <th>0</th>\n",
       "    </tr>\n",
       "  </thead>\n",
       "  <tbody>\n",
       "    <tr>\n",
       "      <th>0.025</th>\n",
       "      <td>-26.135864</td>\n",
       "    </tr>\n",
       "    <tr>\n",
       "      <th>0.975</th>\n",
       "      <td>-3.623375</td>\n",
       "    </tr>\n",
       "  </tbody>\n",
       "</table>\n",
       "</div>"
      ],
      "text/plain": [
       "               0\n",
       "0.025 -26.135864\n",
       "0.975  -3.623375"
      ]
     },
     "execution_count": 33,
     "metadata": {},
     "output_type": "execute_result"
    }
   ],
   "source": [
    "control = general_data.query('group == \"A\" and country == \"Russia\"').revenue\n",
    "test = general_data.query('group == \"B\" and country == \"Russia\"').revenue\n",
    "\n",
    "booted_data = get_bootstrap(control, test, boot_it = 1000, statistic = np.mean)\n",
    "print('p_value = ',booted_data['p_value'])\n",
    "if booted_data['p_value'] <= 0.05:\n",
    "    print('\\nУровень значимости меньше 0.05\\nОтклоняем H0')\n",
    "else:\n",
    "    print('\\nУровень значимости больше 0.05\\nНе отклоняем H0')\n",
    "booted_data['ci']"
   ]
  },
  {
   "cell_type": "markdown",
   "metadata": {},
   "source": [
    "                                                       Sweden"
   ]
  },
  {
   "cell_type": "code",
   "execution_count": 34,
   "metadata": {},
   "outputs": [
    {
     "data": {
      "image/png": "[encoded data removed]",
      "text/plain": [
       "<Figure size 432x288 with 1 Axes>"
      ]
     },
     "metadata": {},
     "output_type": "display_data"
    },
    {
     "name": "stdout",
     "output_type": "stream",
     "text": [
      "p_value =  0.48418858144886856\n",
      "\n",
      "Уровень значимости больше 0.05\n",
      "Не отклоняем H0\n"
     ]
    },
    {
     "data": {
      "text/html": [
       "<div>\n",
       "<style scoped>\n",
       "    .dataframe tbody tr th:only-of-type {\n",
       "        vertical-align: middle;\n",
       "    }\n",
       "\n",
       "    .dataframe tbody tr th {\n",
       "        vertical-align: top;\n",
       "    }\n",
       "\n",
       "    .dataframe thead th {\n",
       "        text-align: right;\n",
       "    }\n",
       "</style>\n",
       "<table border=\"1\" class=\"dataframe\">\n",
       "  <thead>\n",
       "    <tr style=\"text-align: right;\">\n",
       "      <th></th>\n",
       "      <th>0</th>\n",
       "    </tr>\n",
       "  </thead>\n",
       "  <tbody>\n",
       "    <tr>\n",
       "      <th>0.025</th>\n",
       "      <td>-27.486251</td>\n",
       "    </tr>\n",
       "    <tr>\n",
       "      <th>0.975</th>\n",
       "      <td>13.390859</td>\n",
       "    </tr>\n",
       "  </tbody>\n",
       "</table>\n",
       "</div>"
      ],
      "text/plain": [
       "               0\n",
       "0.025 -27.486251\n",
       "0.975  13.390859"
      ]
     },
     "execution_count": 34,
     "metadata": {},
     "output_type": "execute_result"
    }
   ],
   "source": [
    "control = general_data.query('group == \"A\" and country == \"Sweden\"').revenue\n",
    "test = general_data.query('group == \"B\" and country == \"Sweden\"').revenue\n",
    "\n",
    "booted_data = get_bootstrap(control, test, boot_it = 1000, statistic = np.mean)\n",
    "print('p_value = ',booted_data['p_value'])\n",
    "if booted_data['p_value'] <= 0.05:\n",
    "    print('\\nУровень значимости меньше 0.05\\nОтклоняем H0')\n",
    "else:\n",
    "    print('\\nУровень значимости больше 0.05\\nНе отклоняем H0')\n",
    "booted_data['ci']"
   ]
  },
  {
   "cell_type": "markdown",
   "metadata": {},
   "source": [
    "                                                 Неактивные пользователи"
   ]
  },
  {
   "cell_type": "code",
   "execution_count": 35,
   "metadata": {},
   "outputs": [
    {
     "data": {
      "image/png": "[encoded data removed]",
      "text/plain": [
       "<Figure size 432x288 with 1 Axes>"
      ]
     },
     "metadata": {},
     "output_type": "display_data"
    },
    {
     "name": "stdout",
     "output_type": "stream",
     "text": [
      "p_value =  0.4581882622433292\n",
      "\n",
      "Уровень значимости больше 0.05\n",
      "Не отклоняем H0\n"
     ]
    },
    {
     "data": {
      "text/html": [
       "<div>\n",
       "<style scoped>\n",
       "    .dataframe tbody tr th:only-of-type {\n",
       "        vertical-align: middle;\n",
       "    }\n",
       "\n",
       "    .dataframe tbody tr th {\n",
       "        vertical-align: top;\n",
       "    }\n",
       "\n",
       "    .dataframe thead th {\n",
       "        text-align: right;\n",
       "    }\n",
       "</style>\n",
       "<table border=\"1\" class=\"dataframe\">\n",
       "  <thead>\n",
       "    <tr style=\"text-align: right;\">\n",
       "      <th></th>\n",
       "      <th>0</th>\n",
       "    </tr>\n",
       "  </thead>\n",
       "  <tbody>\n",
       "    <tr>\n",
       "      <th>0.025</th>\n",
       "      <td>-0.620914</td>\n",
       "    </tr>\n",
       "    <tr>\n",
       "      <th>0.975</th>\n",
       "      <td>0.289120</td>\n",
       "    </tr>\n",
       "  </tbody>\n",
       "</table>\n",
       "</div>"
      ],
      "text/plain": [
       "              0\n",
       "0.025 -0.620914\n",
       "0.975  0.289120"
      ]
     },
     "execution_count": 35,
     "metadata": {},
     "output_type": "execute_result"
    }
   ],
   "source": [
    "control = general_data.query('group == \"A\" and country != \"Sweden\" and country != \"Russia\"').revenue\n",
    "test = general_data.query('group == \"B\" and country != \"Sweden\" and country != \"Russia\"').revenue\n",
    "\n",
    "booted_data = get_bootstrap(control, test, boot_it = 1000, statistic = np.mean)\n",
    "print('p_value = ',booted_data['p_value'])\n",
    "if booted_data['p_value'] <= 0.05:\n",
    "    print('\\nУровень значимости меньше 0.05\\nОтклоняем H0')\n",
    "else:\n",
    "    print('\\nУровень значимости больше 0.05\\nНе отклоняем H0')\n",
    "booted_data['ci']"
   ]
  },
  {
   "cell_type": "markdown",
   "metadata": {},
   "source": [
    "В случае с ARPU - средний доход с пользователя вырос только в России.\n",
    "\n",
    "В Швеции и в случае с неактивными пользователями - изменений не произошло."
   ]
  },
  {
   "cell_type": "markdown",
   "metadata": {},
   "source": [
    "# Вывод\n",
    "\n",
    "Метрики:\n",
    "\n",
    "- $CR$ - Конверсия пользователя в клиента (в покупку) по группам;\n",
    "- $ARPPU$ - показатель средней выручки с платящего пользователя;\n",
    "- $ARPU$ - показатель средней прибыли с привлечённого пользователя.\n",
    "\n",
    "**В случае с Россией:**\n",
    "\n",
    "Увеличились такие метрики, как ARPPU и ARPU.\n",
    "\n",
    "Следовательно, пользователи из этой страны готовы платить больше за новую модель оплаты коллекций шаблонов.\n",
    "\n",
    "**В Швеции:**\n",
    "\n",
    "Увеличилась только средняя выручка с платящего пользователя. Однако средняя прибыль с привлеченного пользователя и конверсия в покупку остались такими же.\n",
    "\n",
    "Значит, средний чек с платящего пользователя увеличился не значительно и поэтому не повлиял на остальные метрики.\n",
    "\n",
    "**Неактивные пользователи:**\n",
    "\n",
    "В этом случае не изменилась ни одна метрика, возможно из-за того, что у них стоит автоматическое продление подписки и даже в случае с новым способом оплаты - цена на подписку у них не изменилась.\n",
    "\n",
    "Из-за нехватки данных, сложно судить об этой группе."
   ]
  },
  {
   "cell_type": "markdown",
   "metadata": {},
   "source": [
    "                             Метрики, которые увеличились у пользователей из России"
   ]
  },
  {
   "cell_type": "code",
   "execution_count": 36,
   "metadata": {},
   "outputs": [
    {
     "name": "stdout",
     "output_type": "stream",
     "text": [
      "ARPPU контрольной группы в России: 823.42\n",
      "ARPPU тестовой группы в России: 1215.44\n"
     ]
    }
   ],
   "source": [
    "arppu_a_russia = general_data.query('group == \"A\" and country == \"Russia\"').revenue.sum() \\\n",
    "/ general_data.query('group == \"A\" and revenue > 0 and country == \"Russia\"').revenue.count()\n",
    "print('ARPPU контрольной группы в России:',arppu_a_russia.round(2))\n",
    "\n",
    "arppu_b_russia = general_data.query('group == \"B\" and country == \"Russia\"').revenue.sum() \\\n",
    "/ general_data.query('group == \"B\" and revenue > 0 and country == \"Russia\"').revenue.count()\n",
    "print('ARPPU тестовой группы в России:',arppu_b_russia.round(2))"
   ]
  },
  {
   "cell_type": "code",
   "execution_count": 37,
   "metadata": {},
   "outputs": [
    {
     "name": "stdout",
     "output_type": "stream",
     "text": [
      "ARPU контрольной группы в России: 38.7\n",
      "ARPU тестовой группы в России: 53.3\n"
     ]
    }
   ],
   "source": [
    "arpu_a_russia = general_data.query('group == \"A\" and country == \"Russia\"').revenue.sum() \\\n",
    "/ general_data.query('group == \"A\" and country == \"Russia\"').revenue.count()\n",
    "print('ARPU контрольной группы в России:',arpu_a_russia.round(2))\n",
    "\n",
    "arpu_b_russia = general_data.query('group == \"B\" and country == \"Russia\"').revenue.sum()  \\\n",
    "/ general_data.query('group == \"B\" and country == \"Russia\"').revenue.count()\n",
    "print('ARPU тестовой группы в России:',arpu_b_russia.round(2))"
   ]
  },
  {
   "cell_type": "markdown",
   "metadata": {},
   "source": [
    "                                                   В процентах"
   ]
  },
  {
   "cell_type": "code",
   "execution_count": 38,
   "metadata": {},
   "outputs": [
    {
     "name": "stdout",
     "output_type": "stream",
     "text": [
      "ARPPU тестовой группы больше контрольной группы на : 47.61 %\n",
      "\n",
      "ARPU тестовой группы больше контрольной группы на : 37.75 %\n"
     ]
    }
   ],
   "source": [
    "x = (arppu_b_russia * 100 / arppu_a_russia) - 100\n",
    "print('ARPPU тестовой группы больше контрольной группы на :', x.round(2), '%\\n')\n",
    "y = (arpu_b_russia * 100 / arpu_a_russia) - 100\n",
    "print('ARPU тестовой группы больше контрольной группы на :', y.round(2), '%')"
   ]
  },
  {
   "cell_type": "markdown",
   "metadata": {},
   "source": [
    "                                Метрики, которые увеличились у пользователей из Швеции"
   ]
  },
  {
   "cell_type": "code",
   "execution_count": 39,
   "metadata": {},
   "outputs": [
    {
     "name": "stdout",
     "output_type": "stream",
     "text": [
      "ARPPU контрольной группы в Швеции: 1091.17\n",
      "ARPPU тестовой группы в Швеции: 1356.16\n"
     ]
    }
   ],
   "source": [
    "arppu_a_sweden = general_data.query('group == \"A\" and country == \"Sweden\"').revenue.sum() \\\n",
    "/ general_data.query('group == \"A\" and revenue > 0 and country == \"Sweden\"').revenue.count()\n",
    "print('ARPPU контрольной группы в Швеции:',arppu_a_sweden.round(2))\n",
    "\n",
    "arppu_b_sweden = general_data.query('group == \"B\" and country == \"Sweden\"').revenue.sum() \\\n",
    "/ general_data.query('group == \"B\" and revenue > 0 and country == \"Sweden\"').revenue.count()\n",
    "print('ARPPU тестовой группы в Швеции:',arppu_b_sweden.round(2))"
   ]
  },
  {
   "cell_type": "markdown",
   "metadata": {},
   "source": [
    "                                                   В процентах"
   ]
  },
  {
   "cell_type": "code",
   "execution_count": 40,
   "metadata": {},
   "outputs": [
    {
     "name": "stdout",
     "output_type": "stream",
     "text": [
      "ARPPU тестовой группы больше контрольной группы на : 24.28 %\n"
     ]
    }
   ],
   "source": [
    "x = (arppu_b_sweden * 100 / arppu_a_sweden) - 100\n",
    "print('ARPPU тестовой группы больше контрольной группы на :', x.round(2), '%')"
   ]
  },
  {
   "cell_type": "markdown",
   "metadata": {},
   "source": [
    "# Рекомендации\n",
    "\n",
    "Новую модель оплаты можно запускать.\n",
    "\n",
    "Данную модель можно запустить как только для пользователей из России, так и для всех остальных пользователей.\n",
    "\n",
    "Хоть на Швецию новая модель оплаты не повлияла так сильно, как на Россию, все же средний чек увеличился больее чем на 24%.\n",
    "\n",
    "С неактивными пользователями непонятная ситуация. О них можно судить только с более обширными данными. Но если запустить обновление на всех пользователей, то в ситуации с этими пользователями - метрики не упадут."
   ]
  },
  {
   "cell_type": "markdown",
   "metadata": {},
   "source": [
    "#  Ссылка на дашборд\n",
    "\n",
    "https://public.tableau.com/app/profile/.41047332/viz/UserInvolvement/sheet8"
   ]
  }
 ],
 "metadata": {
  "kernelspec": {
   "display_name": "Python 3",
   "language": "python",
   "name": "python3"
  },
  "language_info": {
   "codemirror_mode": {
    "name": "ipython",
    "version": 3
   },
   "file_extension": ".py",
   "mimetype": "text/x-python",
   "name": "python",
   "nbconvert_exporter": "python",
   "pygments_lexer": "ipython3",
   "version": "3.7.3"
  }
 },
 "nbformat": 4,
 "nbformat_minor": 4
}
